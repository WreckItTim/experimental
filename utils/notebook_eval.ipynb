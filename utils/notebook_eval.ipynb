{
 "cells": [
  {
   "cell_type": "markdown",
   "id": "fdd5d440",
   "metadata": {},
   "source": [
    "# SETUP"
   ]
  },
  {
   "cell_type": "code",
   "execution_count": 2,
   "id": "f2b6a2a9-cf1e-47cf-825f-bdbf813085e6",
   "metadata": {},
   "outputs": [
    {
     "data": {
      "application/javascript": [
       "IPython.notebook.set_autosave_interval(0)"
      ]
     },
     "metadata": {},
     "output_type": "display_data"
    },
    {
     "name": "stdout",
     "output_type": "stream",
     "text": [
      "Autosave disabled\n"
     ]
    }
   ],
   "source": [
    "%autosave 0\n",
    "import sys\n",
    "sys.dont_write_bytecode = True\n",
    "from methods import *"
   ]
  },
  {
   "cell_type": "code",
   "execution_count": 9,
   "id": "86f06fba-0f2a-47ba-b315-4ab52998f284",
   "metadata": {},
   "outputs": [
    {
     "data": {
      "text/plain": [
       "['', 'home', 'tim', 'Dropbox', 'utils']"
      ]
     },
     "execution_count": 9,
     "metadata": {},
     "output_type": "execute_result"
    }
   ],
   "source": [
    "os.getcwd().split('/')"
   ]
  },
  {
   "cell_type": "code",
   "execution_count": null,
   "id": "aff1c0f1-51a3-406f-88b2-003652efef2c",
   "metadata": {
    "scrolled": true
   },
   "outputs": [],
   "source": [
    "airsim_map = 'Blocks'\n",
    "motion = '2d'\n",
    "home_dir = '/home/tim/Dropbox/' # SET FOR YOU\n",
    "working_directory = f'{home_dir}models/navigation/blocks_dqn_2d/'\n",
    "data_dir = '/home/tim/Dropbox/data/'"
   ]
  },
  {
   "cell_type": "code",
   "execution_count": null,
   "id": "d6828cf5-8596-4443-9e92-57b1440eaaf8",
   "metadata": {},
   "outputs": [],
   "source": [
    "# astar paths\n",
    "astar_path = f'data/astar_paths/32m/{airsim_map}_{motion}_test.p'\n",
    "astar_paths = pickle.load(open(astar_path, 'rb'))\n",
    "\n",
    "# config\n",
    "configuration_path = working_directory + 'configuration.json'\n",
    "configuration = json.load(open(configuration_path, 'r'))\n",
    "\n",
    "# results\n",
    "results_path = working_directory + 'test_final/evaluation.json'\n",
    "results = json.load(open(results_path, 'r'))\n",
    "\n",
    "# states\n",
    "episodes = read_evaluations(f'{working_directory}test_final/states/')[0]\n",
    "\n",
    "# log txt file from rl_drone\n",
    "#log_path = working_directory + 'log.txt'\n",
    "#log = pd.read_csv(log_path, sep=\",\", header=None, on_bad_lines='skip')[0].tolist() \n",
    "\n",
    "# pytorch model\n",
    "#model_path = working_directory + 'modeling/model_final.zip'\n",
    "# from stable_baselines3 import DQN as sb3DQN\n",
    "# mdl = sb3DQN.load(model_path)\n",
    "# mdl.policy\n",
    "# from stable_baselines3 import TD3 as sb3TD3\n",
    "# mdl = sb3TD3.load(model_path)\n",
    "# mdl.actor"
   ]
  },
  {
   "cell_type": "markdown",
   "id": "c50f0efa-cace-4883-85c8-7ed8481ba409",
   "metadata": {},
   "source": [
    "# path accuracy"
   ]
  },
  {
   "cell_type": "code",
   "execution_count": null,
   "id": "12f3adb1-2332-4b61-8ae2-21050fc0927f",
   "metadata": {},
   "outputs": [],
   "source": [
    "goals = []\n",
    "path_idxs = []\n",
    "path_lengths = []\n",
    "linearities = []\n",
    "nonlinearities = []\n",
    "for episode, states in enumerate(episodes):\n",
    "    initial_step = states[0]\n",
    "    final_step = states[-1]\n",
    "    goals.append(final_step['reached_goal'])\n",
    "    path_idxs.append(initial_step['path_idx'])\n",
    "    path_lengths.append(len(states))\n",
    "    linearities.append(initial_step['path_linearity'])\n",
    "    nonlinearities.append(initial_step['path_nonlinearity'])\n",
    "\n",
    "# check against astar paths\n",
    "linearity_bounds = astar_paths['linearity_bounds']\n",
    "nonlinearity_bounds = astar_paths['nonlinearity_bounds']\n",
    "goal_map = np.zeros([len(linearity_bounds), len(nonlinearity_bounds)]).astype(float)\n",
    "total_map = np.zeros([len(linearity_bounds), len(nonlinearity_bounds)]).astype(float)\n",
    "def get_bin(linearity, nonlinearity):\n",
    "    for i in range(len(linearity_bounds)-1):\n",
    "        if linearity < linearity_bounds[i+1]:\n",
    "            for j in range(len(nonlinearity_bounds)-1):\n",
    "                if nonlinearity < nonlinearity_bounds[j+1]:\n",
    "                    return i, j\n",
    "def get_linearity_idx(linearity):\n",
    "    for i in range(len(linearity_bounds)-1):\n",
    "        if linearity < linearity_bounds[i+1]:\n",
    "            return i\n",
    "def get_nonlinearity_idx(nonlinearity):\n",
    "    for j in range(len(nonlinearity_bounds)-1):\n",
    "        if nonlinearity < nonlinearity_bounds[j+1]:\n",
    "            return j\n",
    "test_lengths = []\n",
    "for idx, path_idx in enumerate(path_idxs):\n",
    "    path = astar_paths['paths'][path_idx]\n",
    "    linearity = astar_paths['linearitys'][path_idx]\n",
    "    nonlinearity = astar_paths['nonlinearitys'][path_idx]\n",
    "    goal = goals[idx]\n",
    "    i, j = get_bin(linearity, nonlinearity)\n",
    "    goal_map[i, j] += goal\n",
    "    total_map[i, j] += 1\n",
    "    if goal:\n",
    "        astar_length = len(path)\n",
    "        test_length = path_lengths[idx] / astar_length\n",
    "        test_lengths.append(test_length)\n",
    "goal_map[total_map <= 0] = np.nan\n",
    "total_map[total_map <= 0] = np.nan\n",
    "acc_map = goal_map / total_map\n",
    "print(f'total test accuracy = {np.round(100*np.mean(goals),2)}%')\n",
    "print(f'average path length relative to A-star = {np.round(np.mean(test_lengths),2)}')\n",
    "fig, ax = plt.subplots(figsize=[16,8])\n",
    "cbar = ax.imshow(acc_map.T, origin='lower', cmap='winter')\n",
    "fig.colorbar(cbar, shrink=0.2)\n",
    "plt.title('Path Accuracy')\n",
    "ax.set_xticks([i for i in range(0, len(linearity_bounds), 2)], [np.round(linearity_bounds[i],2) for i in range(0, len(linearity_bounds), 2)], rotation=45)\n",
    "ax.set_yticks([i for i in range(0, len(nonlinearity_bounds), 1)], [int(nonlinearity_bounds[i]) for i in range(0, len(nonlinearity_bounds), 1)], rotation=45)\n",
    "ax.set_xlim([get_linearity_idx(np.min(linearities))-1, get_linearity_idx(np.max(linearities))+1])\n",
    "ax.set_ylim([get_nonlinearity_idx(np.min(nonlinearities))-1, get_nonlinearity_idx(np.max(nonlinearities))+1])\n",
    "plt.xlabel('Eucledian Distance to Goal [m]')\n",
    "plt.ylabel('Rotations')\n",
    "plt.show()"
   ]
  },
  {
   "cell_type": "code",
   "execution_count": null,
   "id": "73c803df-616e-4208-8e04-aff6ea58af02",
   "metadata": {},
   "outputs": [],
   "source": [
    "actions = configuration['components']['Actor']['actions_components'] # list of actions DQN can take\n",
    "sensor_names = ['DepthV2'] # sensor data to view at each step\n",
    "sensor_psuedonames = { # names to display in below animation\n",
    "    'DepthV2':'Reduced Depth Map',\n",
    "}\n",
    "resolution = [36, 64] # highest resolution of image data to display [height, width]\n",
    "id_names = ['alpha'] # id of which data to use (alpha is stable build)\n",
    "\n",
    "# view data at given episode\n",
    "episode_idx = 777\n",
    "episode = episodes[episode_idx]\n",
    "episode_data, episode_animation = data_at_episode(data_dir, airsim_map, sensor_names, id_names, \n",
    "                                      episode, actions, make_animation=True, return_data=True,\n",
    "                                                 resolution=resolution, \n",
    "                                                  sensor_psuedonames=sensor_psuedonames)\n",
    "\n",
    "# display results\n",
    "display_data_results(episode_data, episode_animation)\n",
    "\n",
    "episode_data"
   ]
  },
  {
   "cell_type": "code",
   "execution_count": null,
   "id": "66a87ba0-e8ed-47cf-aa61-7d70be8cc1e6",
   "metadata": {},
   "outputs": [],
   "source": []
  }
 ],
 "metadata": {
  "kernelspec": {
   "display_name": "Python 3 (ipykernel)",
   "language": "python",
   "name": "python3"
  },
  "language_info": {
   "codemirror_mode": {
    "name": "ipython",
    "version": 3
   },
   "file_extension": ".py",
   "mimetype": "text/x-python",
   "name": "python",
   "nbconvert_exporter": "python",
   "pygments_lexer": "ipython3",
   "version": "3.12.4"
  }
 },
 "nbformat": 4,
 "nbformat_minor": 5
}
