{
 "cells": [
  {
   "cell_type": "code",
   "execution_count": 1,
   "id": "31cc6514-706f-4fbe-9740-1460bbcaa1c2",
   "metadata": {},
   "outputs": [
    {
     "data": {
      "application/javascript": [
       "IPython.notebook.set_autosave_interval(0)"
      ]
     },
     "metadata": {},
     "output_type": "display_data"
    },
    {
     "name": "stdout",
     "output_type": "stream",
     "text": [
      "Autosave disabled\n"
     ]
    }
   ],
   "source": [
    "%autosave 0\n",
    "import sys\n",
    "sys.dont_write_bytecode = True\n",
    "from methods import *"
   ]
  },
  {
   "cell_type": "markdown",
   "id": "1997f2dd-ffa6-41cd-b8d0-bffdc2c913e5",
   "metadata": {},
   "source": [
    "# set parameters"
   ]
  },
  {
   "cell_type": "code",
   "execution_count": 2,
   "id": "7ead1d68-67a4-452e-9556-28142b283e4c",
   "metadata": {
    "scrolled": true
   },
   "outputs": [],
   "source": [
    "# set parent path to directory where data is stored (with observations as a subdirectory in this parent dir)\n",
    "data_dir = '/home/tim/Dropbox/data/'\n",
    "\n",
    "\n",
    "# **** the parameters below are static values for your reference, select from these to use in below cells\n",
    "\n",
    "# will display data from these sensors in subplots later, in order from top-to-bottom left-to-right\n",
    "# bounding boxes will be drawn on the previous sensor in list\n",
    "sensor_names_all = [\n",
    "    'SceneV1', # forward RGB scene (sunny, no weather) 144x256 resolution\n",
    "    'BoxesV1', # ground truth bounding boxes of all objects in scene, will be drawn onto sensor above this\n",
    "    'SegmentationV1', # ground truth color forward segementation 144x256 resolution\n",
    "    'MasksV1', # ground truth dictionary of boolean array masks for each object in scene\n",
    "    'DepthV1', # ground truth forward depth 144x256 resolution\n",
    "    'DepthV2', # ground truth forward depth 36x64 resolution \n",
    "    'SceneV3', # forward RGB rain 144x256 resolution\n",
    "    'SceneV4', # forward RGB snow 144x256 resolution\n",
    "    'SceneV5', # forward RGB fog 144x256 resolution\n",
    "]\n",
    "\n",
    "# id_names are a unique identifier to tag specific subsets or versions of a data_dict\n",
    "id_names_all = [\n",
    "    'alpha', # most current stable data\n",
    "    'beta', # experimental data -- will update to alpha when finished\n",
    "    'demo', # quickly collected data to show\n",
    "]\n",
    "\n",
    "# these are valid ranges of coordinates that you can use\n",
    "    # train is top half, test is bottom half, all is both halves\n",
    "x_vals_train_blocks = [x for x in range(-60, 101, 2)]\n",
    "x_vals_test_blocks = [x for x in range(-120, 1, 2)]\n",
    "x_vals_all_blocks = [x for x in range(-120, 101, 2)]\n",
    "y_vals_all_blocks = [y for y in range(-140, 141, 2)]\n",
    "x_vals_train_airsimnh = [x for x in range(-10, 241, 2)]\n",
    "x_vals_test_airsimnh = [x for x in range(-240, 11, 2)]\n",
    "x_vals_all_airsimnh = [x for x in range(-240, 241, 2)]\n",
    "y_vals_all_airsimnh = [y for y in range(-240, 241, 2)]\n",
    "z_vals_2d, z_vals_3d = [-4], [-4] #[-16, -12, -8, -4] # working on z-vals outside of -4\n",
    "yaw_vals_all = [0, 1, 2, 3]\n",
    "#t_vals_all = [0] # working on temporal values to add to dictionary \n",
    "\n",
    "# rename titles on subplots in animation\n",
    "sensor_psuedonames = {\n",
    "    'DepthV1':'Depth', # forward depth 144x256 resolution\n",
    "    'DepthV2':'Depth', # forward depth 144x256 resolution\n",
    "    'SceneV1':'Sunny', # forward RGB 144x256 resolution\n",
    "    'SceneV3':'Rain', # forward RGB rain 144x256 resolution\n",
    "    'SceneV4':'Snow', # forward RGB snow 144x256 resolution\n",
    "    'SceneV5':'Fog', # forward RGB fog 144x256 resolution\n",
    "}"
   ]
  },
  {
   "cell_type": "code",
   "execution_count": 3,
   "id": "d04584b3-783d-4e44-801b-673edcd035c6",
   "metadata": {},
   "outputs": [
    {
     "name": "stdout",
     "output_type": "stream",
     "text": [
      "data_dict__alpha_1_-112_-48_2_-176_-112_2_-4_0_4.p\n",
      "data_dict__alpha_1_208_241_2_-48_16_2_-4_0_4.p\n",
      "data_dict__alpha_1_-176_-112_2_-240_-176_2_-4_0_4.p\n",
      "data_dict__alpha_1_16_80_2_208_241_2_-4_0_4.p\n",
      "data_dict__alpha_1_80_144_2_-176_-112_2_-4_0_4.p\n",
      "data_dict__alpha_1_80_144_2_16_80_2_-4_0_4.p\n",
      "data_dict__alpha_1_80_144_2_80_144_2_-4_0_4.p\n",
      "data_dict__alpha_1_-176_-112_2_16_80_2_-4_0_4.p\n",
      "data_dict__alpha_1_80_144_2_-48_16_2_-4_0_4.p\n",
      "data_dict__alpha_1_-48_16_2_80_144_2_-4_0_4.p\n",
      "data_dict__alpha_1_-176_-112_2_-112_-48_2_-4_0_4.p\n",
      "data_dict__alpha_1_80_144_2_144_208_2_-4_0_4.p\n",
      "data_dict__alpha_1_144_208_2_16_80_2_-4_0_4.p\n",
      "data_dict__alpha_1_208_241_2_208_241_2_-4_0_4.p\n",
      "data_dict__alpha_1_-240_-176_2_-112_-48_2_-4_0_4.p\n",
      "data_dict__alpha_1_208_241_2_-176_-112_2_-4_0_4.p\n",
      "data_dict__alpha_1_208_241_2_80_144_2_-4_0_4.p\n",
      "data_dict__alpha_1_16_80_2_-48_16_2_-4_0_4.p\n",
      "data_dict__alpha_1_144_208_2_-112_-48_2_-4_0_4.p\n",
      "data_dict__alpha_1_80_144_2_-240_-176_2_-4_0_4.p\n",
      "data_dict__alpha_1_-48_16_2_-240_-176_2_-4_0_4.p\n",
      "data_dict__alpha_1_-240_-176_2_208_241_2_-4_0_4.p\n",
      "data_dict__alpha_1_16_80_2_144_208_2_-4_0_4.p\n",
      "data_dict__alpha_1_-48_16_2_16_80_2_-4_0_4.p\n",
      "data_dict__alpha_1_144_208_2_80_144_2_-4_0_4.p\n",
      "data_dict__alpha_1_80_144_2_208_241_2_-4_0_4.p\n",
      "data_dict__alpha_1_-48_16_2_144_208_2_-4_0_4.p\n",
      "data_dict__alpha_1_-176_-112_2_-48_16_2_-4_0_4.p\n",
      "data_dict__alpha_1_80_144_2_-112_-48_2_-4_0_4.p\n",
      "data_dict__alpha_1_-240_-176_2_16_80_2_-4_0_4.p\n",
      "data_dict__alpha_1_144_208_2_144_208_2_-4_0_4.p\n",
      "data_dict__alpha_1_-48_16_2_-176_-112_2_-4_0_4.p\n",
      "data_dict__alpha_1_144_208_2_-176_-112_2_-4_0_4.p\n",
      "data_dict__alpha_1_-112_-48_2_-48_16_2_-4_0_4.p\n",
      "data_dict__alpha_1_-112_-48_2_16_80_2_-4_0_4.p\n",
      "data_dict__alpha_1_144_208_2_208_241_2_-4_0_4.p\n",
      "data_dict__alpha_1_-176_-112_2_208_241_2_-4_0_4.p\n",
      "data_dict__alpha_1_-112_-48_2_80_144_2_-4_0_4.p\n",
      "data_dict__alpha_1_-48_16_2_-48_16_2_-4_0_4.p\n",
      "data_dict__alpha_1_16_80_2_80_144_2_-4_0_4.p\n",
      "data_dict__alpha_1_16_80_2_16_80_2_-4_0_4.p\n",
      "data_dict__alpha_1_-240_-176_2_144_208_2_-4_0_4.p\n",
      "data_dict__alpha_1_-240_-176_2_80_144_2_-4_0_4.p\n",
      "data_dict__alpha_1_-48_16_2_-112_-48_2_-4_0_4.p\n",
      "data_dict__alpha_1_-176_-112_2_-176_-112_2_-4_0_4.p\n",
      "data_dict__alpha_1_144_208_2_-48_16_2_-4_0_4.p\n",
      "data_dict__alpha_1_-112_-48_2_-240_-176_2_-4_0_4.p\n",
      "data_dict__alpha_1_16_80_2_-240_-176_2_-4_0_4.p\n",
      "data_dict__alpha_1_208_241_2_-112_-48_2_-4_0_4.p\n",
      "data_dict__alpha_1_208_241_2_-240_-176_2_-4_0_4.p\n",
      "data_dict__alpha_1_-240_-176_2_-240_-176_2_-4_0_4.p\n",
      "data_dict__alpha_1_16_80_2_-112_-48_2_-4_0_4.p\n",
      "data_dict__alpha_1_-48_16_2_208_241_2_-4_0_4.p\n",
      "data_dict__alpha_1_-112_-48_2_-112_-48_2_-4_0_4.p\n",
      "data_dict__alpha_1_-112_-48_2_208_241_2_-4_0_4.p\n",
      "data_dict__alpha_1_208_241_2_144_208_2_-4_0_4.p\n",
      "data_dict__alpha_1_16_80_2_-176_-112_2_-4_0_4.p\n",
      "data_dict__alpha_1_-240_-176_2_-176_-112_2_-4_0_4.p\n",
      "data_dict__alpha_1_-176_-112_2_80_144_2_-4_0_4.p\n",
      "data_dict__alpha_1_-112_-48_2_144_208_2_-4_0_4.p\n",
      "data_dict__alpha_1_208_241_2_16_80_2_-4_0_4.p\n",
      "data_dict__alpha_1_144_208_2_-240_-176_2_-4_0_4.p\n",
      "data_dict__alpha_1_-240_-176_2_-48_16_2_-4_0_4.p\n",
      "data_dict__alpha_1_-176_-112_2_144_208_2_-4_0_4.p\n"
     ]
    }
   ],
   "source": [
    "rdir = f'{data_dir}observations/SceneV1/AirSimNH/'\n",
    "fnames = os.listdir(rdir)\n",
    "for fname in fnames:\n",
    "    if 'data_dict' in fname:\n",
    "        print(fname)\n",
    "        data_dict = pk_read(rdir+fname)\n",
    "        for x in data_dict:\n",
    "            for y in data_dict[x]:\n",
    "                for z in data_dict[x][y]:\n",
    "                    if len(data_dict[x][y][z]) != 4:\n",
    "                        print(x, y, z)"
   ]
  },
  {
   "cell_type": "markdown",
   "id": "12f52ca9-bbc3-45f5-b85f-dc93cd94ce5b",
   "metadata": {},
   "source": [
    "# fetch train and test data"
   ]
  },
  {
   "cell_type": "code",
   "execution_count": 4,
   "id": "e21be658-6b0f-433d-8fbb-efc61699d7d0",
   "metadata": {},
   "outputs": [
    {
     "name": "stdout",
     "output_type": "stream",
     "text": [
      "Train Data\n",
      "collected 99480 many data points!\n",
      "rgb has shape of (99480, 3, 144, 256)\n",
      "depth has shape of (99480, 1, 144, 256)\n"
     ]
    }
   ],
   "source": [
    "# set coordinate ranges\n",
    "x_vals = x_vals_train_airsimnh\n",
    "y_vals = y_vals_all_airsimnh\n",
    "z_vals = z_vals_2d\n",
    "yaw_vals = yaw_vals_all\n",
    "airsim_map = 'AirSimNH'\n",
    "sensor_names = [\n",
    "    'SceneV1',\n",
    "    'DepthV1',\n",
    "]\n",
    "sensor_psuedonames = {\n",
    "    'SceneV1':'rgb',\n",
    "    'DepthV1':'depth',\n",
    "}\n",
    "id_names = ['alpha'] # only use stable data\n",
    "resolution=[144,256] # height, width of observation arrays (images)\n",
    "\n",
    "# fetch data from coordinates\n",
    "location_data, location_animation = data_at_coordinates(data_dir, airsim_map, sensor_names, id_names, x_vals, y_vals, z_vals, yaw_vals, \n",
    "                    make_animation=False, return_data=True, ncols=2, additional_subplots=0, resolution=resolution, sensor_psuedonames=sensor_psuedonames)\n",
    "\n",
    "# display results\n",
    "print('Train Data')\n",
    "display_data_results(location_data, location_animation, sensor_psuedonames)\n",
    "\n",
    "# write results\n",
    "out_dir = f'{data_dir}prepared_datasets/rgb_to_depth_v1/'\n",
    "os.makedirs(out_dir, exist_ok=True)\n",
    "for sensor_name in sensor_names:\n",
    "    data = location_data['observations'][sensor_name]\n",
    "    out_path = f'{out_dir}train_{sensor_psuedonames[sensor_name]}.npy'\n",
    "    np.save(out_path, data)\n",
    "np.save(f'{out_dir}train_coordinates.npy', location_data['coordinates'])"
   ]
  },
  {
   "cell_type": "code",
   "execution_count": 5,
   "id": "e5a07b82-8344-4482-959a-44ed42fd0d64",
   "metadata": {},
   "outputs": [
    {
     "name": "stdout",
     "output_type": "stream",
     "text": [
      "Train Data\n",
      "collected 95608 many data points!\n",
      "rgb has shape of (95608, 3, 144, 256)\n",
      "depth has shape of (95608, 1, 144, 256)\n"
     ]
    }
   ],
   "source": [
    "# set coordinate ranges\n",
    "x_vals = x_vals_test_airsimnh\n",
    "y_vals = y_vals_all_airsimnh\n",
    "z_vals = z_vals_2d\n",
    "yaw_vals = yaw_vals_all\n",
    "airsim_map = 'AirSimNH'\n",
    "sensor_names = [\n",
    "    'SceneV1',\n",
    "    'DepthV1',\n",
    "]\n",
    "sensor_psuedonames = {\n",
    "    'SceneV1':'rgb',\n",
    "    'DepthV1':'depth',\n",
    "}\n",
    "id_names = ['alpha'] # only use stable data\n",
    "resolution=[144,256] # height, width of observation arrays (images)\n",
    "\n",
    "# fetch data from coordinates\n",
    "location_data, location_animation = data_at_coordinates(data_dir, airsim_map, sensor_names, id_names, x_vals, y_vals, z_vals, yaw_vals, \n",
    "                    make_animation=False, return_data=True, ncols=2, additional_subplots=0, resolution=resolution, sensor_psuedonames=sensor_psuedonames)\n",
    "\n",
    "# display results\n",
    "print('Train Data')\n",
    "display_data_results(location_data, location_animation, sensor_psuedonames)\n",
    "\n",
    "# write results\n",
    "out_dir = f'{data_dir}prepared_datasets/rgb_to_depth_v1/'\n",
    "os.makedirs(out_dir, exist_ok=True)\n",
    "for sensor_name in sensor_names:\n",
    "    data = location_data['observations'][sensor_name]\n",
    "    out_path = f'{out_dir}test_{sensor_psuedonames[sensor_name]}.npy'\n",
    "    np.save(out_path, data)\n",
    "np.save(f'{out_dir}test_coordinates.npy', location_data['coordinates'])"
   ]
  },
  {
   "cell_type": "code",
   "execution_count": null,
   "id": "6295048c-9aff-4e29-9ec2-0b18a1ff7ff9",
   "metadata": {},
   "outputs": [],
   "source": []
  }
 ],
 "metadata": {
  "kernelspec": {
   "display_name": "Python 3 (ipykernel)",
   "language": "python",
   "name": "python3"
  },
  "language_info": {
   "codemirror_mode": {
    "name": "ipython",
    "version": 3
   },
   "file_extension": ".py",
   "mimetype": "text/x-python",
   "name": "python",
   "nbconvert_exporter": "python",
   "pygments_lexer": "ipython3",
   "version": "3.9.20"
  }
 },
 "nbformat": 4,
 "nbformat_minor": 5
}
