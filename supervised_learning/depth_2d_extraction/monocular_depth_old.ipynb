{
 "cells": [
  {
   "cell_type": "markdown",
   "id": "06c540b4-35a3-4d58-b74c-54e12598e11c",
   "metadata": {},
   "source": [
    "# init"
   ]
  },
  {
   "cell_type": "code",
   "execution_count": 1,
   "id": "85f62c13",
   "metadata": {
    "tags": []
   },
   "outputs": [
    {
     "name": "stdout",
     "output_type": "stream",
     "text": [
      "cpu count: 20\n",
      "gpu count: 3\n",
      "cuda avail: True\n"
     ]
    }
   ],
   "source": [
    "from methods import *\n",
    "\n",
    "# the numpy arrays need to match the same floating type used by pytorch here\n",
    "th.set_default_dtype(th.float32)\n",
    "\n",
    "# remove some annoying tensorflow logging\n",
    "os.environ['TF_CPP_MIN_LOG_LEVEL'] = '3'\n",
    "\n",
    "# 'spawn' is needed to use gpus in parallel for pytorch\n",
    "mp.set_start_method('spawn')\n",
    "\n",
    "# set device to load pytorch models and data onto\n",
    "device = 'cuda:1'"
   ]
  },
  {
   "cell_type": "markdown",
   "id": "54453fdf-abee-4edd-bbc2-8fa688b3c6f7",
   "metadata": {},
   "source": [
    "# read and proc data"
   ]
  },
  {
   "cell_type": "code",
   "execution_count": 2,
   "id": "09aba869-7d8c-48bf-bf61-6b063e41cb54",
   "metadata": {},
   "outputs": [
    {
     "name": "stdout",
     "output_type": "stream",
     "text": [
      "(99480, 3, 144, 256) (99480, 1, 144, 256)\n",
      "(95608, 3, 144, 256) (95608, 1, 144, 256)\n"
     ]
    }
   ],
   "source": [
    "# read data\n",
    "prepared_datasets_path = '/home/tim/Dropbox/data/prepared_datasets/'\n",
    "n_samples = 1_000\n",
    "\n",
    "predictor_train = np.load(f'{prepared_datasets_path}rgb_to_depth_v1/train_rgb.npy')\n",
    "target_train = np.load(f'{prepared_datasets_path}rgb_to_depth_v1/train_depth.npy')\n",
    "predictor_eval = np.load(f'{prepared_datasets_path}rgb_to_depth_v1/test_rgb.npy')\n",
    "target_eval = np.load(f'{prepared_datasets_path}rgb_to_depth_v1/test_depth.npy')\n",
    "\n",
    "# predictor_train = np.random.randint(1,255,[n_samples,3,144,256]).astype(np.uint8)\n",
    "# predictor_eval = np.random.randint(1,255,[n_samples,3,144,256]).astype(np.uint8)\n",
    "# target_train = np.random.randint(1,255,[n_samples,1,144,256]).astype(np.uint8)\n",
    "# target_eval = np.random.randint(1,255,[n_samples,1,144,256]).astype(np.uint8)\n",
    "\n",
    "predictor_mean = 94.11807077041952 #np.mean(predictor_train)\n",
    "predictor_std = 80.77841523336176 #np.std(predictor_train)\n",
    "target_min = 0\n",
    "target_max = 255\n",
    "\n",
    "def x_preproc_func(x, _mean, _std):\n",
    "    return (x.astype(np.float32)-_mean)/_std\n",
    "def y_preproc_func(y, _min, _max):\n",
    "    return (y.astype(np.float32)-_min)/(_max-_min)\n",
    "x_preproc_params={'_mean':predictor_mean, '_std':predictor_std}\n",
    "y_preproc_params={'_min':target_min, '_max':target_max}\n",
    "def unprocess_func(p, _min, _max):\n",
    "    p = (p*(_max-_min)+_min).astype(np.uint8)\n",
    "    p[p==0] = 1\n",
    "    return p\n",
    "unprocess_params={'_min':target_min, '_max':target_max}\n",
    "\n",
    "# extract parameters from input/ouput data\n",
    "n_instances = predictor_train.shape[0]\n",
    "n_channels = predictor_train.shape[1]\n",
    "n_dim1 = predictor_train.shape[2]\n",
    "n_dim2 = predictor_train.shape[3]\n",
    "\n",
    "print(predictor_train.shape, target_train.shape)\n",
    "print(predictor_eval.shape, target_eval.shape)"
   ]
  },
  {
   "cell_type": "code",
   "execution_count": 3,
   "id": "28d8e31f-e2f5-4b35-bd7b-6e8bdee60514",
   "metadata": {},
   "outputs": [],
   "source": [
    "# # calucate statistics to standardize (done during dataloader)\n",
    "\n",
    "# R = predictor_train[:,0,:,:].flatten()\n",
    "# G = predictor_train[:,1,:,:].flatten()\n",
    "# B = predictor_train[:,2,:,:].flatten()\n",
    "\n",
    "# mean_R, std_R = np.mean(R), np.std(R)\n",
    "# mean_G, std_G = np.mean(G), np.std(G)\n",
    "# mean_B, std_B = np.mean(B), np.std(B)\n",
    "\n",
    "# means = np.array([mean_R, mean_G, mean_B])\n",
    "# stds = np.array([std_R, std_G, std_B])"
   ]
  },
  {
   "cell_type": "markdown",
   "id": "d952aa02-b706-416b-9ce3-7e4928f92dc3",
   "metadata": {},
   "source": [
    "# SET PARALLELIZATION"
   ]
  },
  {
   "cell_type": "code",
   "execution_count": 4,
   "id": "8da31f08-5444-4fc8-8162-58960bdecc52",
   "metadata": {
    "tags": []
   },
   "outputs": [],
   "source": [
    "hyper_parallel = False\n",
    "gpu_threads = 1\n",
    "cpu_threads = 4"
   ]
  },
  {
   "cell_type": "markdown",
   "id": "05903f32-9ada-4460-9c90-03533deda724",
   "metadata": {},
   "source": [
    "# set model architecture"
   ]
  },
  {
   "cell_type": "code",
   "execution_count": 5,
   "id": "53d16e7b-6d07-44b9-860d-e1eab52224ae",
   "metadata": {},
   "outputs": [
    {
     "name": "stdout",
     "output_type": "stream",
     "text": [
      "stride = 2\n",
      "input torch.Size([100, 3, 144, 256])\n",
      "layer 1 torch.Size([100, 32, 72, 128])\n",
      "layer 2 torch.Size([100, 64, 36, 64])\n",
      "layer 3 torch.Size([100, 128, 18, 32])\n",
      "layer 4 torch.Size([100, 256, 9, 16])\n",
      "layer 5 torch.Size([100, 256, 9, 16])\n",
      "layer 6 torch.Size([100, 256, 9, 16])\n",
      "layer 7 torch.Size([100, 256, 9, 16])\n",
      "layer 8 torch.Size([100, 128, 18, 32])\n",
      "layer 9 torch.Size([100, 64, 36, 64])\n",
      "layer 10 torch.Size([100, 32, 72, 128])\n",
      "layer 11 torch.Size([100, 1, 144, 256])\n"
     ]
    }
   ],
   "source": [
    "# make a scalable CNN following Zixia's depth network which is inspired by: https://ieeexplore.ieee.org/abstract/document/9318521\n",
    "scale = 1\n",
    "model_func = create_cnn\n",
    "model_params = {\n",
    "    'block_layers':[\n",
    "                    [\n",
    "                        [nn.Conv2d, {'in_channels':n_channels, 'out_channels':int(32*scale), 'kernel_size':4, 'stride':2, 'padding':1}],\n",
    "                        [nn.BatchNorm2d, {'num_features':int(32*scale)}],\n",
    "                        [nn.SELU],\n",
    "                    ],\n",
    "                    [\n",
    "                        [nn.Conv2d, {'in_channels':int(32*scale), 'out_channels':int(64*scale), 'kernel_size':4, 'stride':2, 'padding':1}],\n",
    "                        [nn.BatchNorm2d, {'num_features':int(64*scale)}],\n",
    "                        [nn.SELU],\n",
    "                    ],\n",
    "                    [\n",
    "                        [nn.Conv2d, {'in_channels':int(64*scale), 'out_channels':int(128*scale), 'kernel_size':4, 'stride':2, 'padding':1}],\n",
    "                        [nn.BatchNorm2d, {'num_features':int(128*scale)}],\n",
    "                        [nn.SELU],\n",
    "                    ],\n",
    "                    [\n",
    "                        [nn.Conv2d, {'in_channels':int(128*scale), 'out_channels':int(256*scale), 'kernel_size':4, 'stride':2, 'padding':1}],\n",
    "                        [nn.BatchNorm2d, {'num_features':int(256*scale)}],\n",
    "                        [nn.SELU],\n",
    "                    ],\n",
    "                    [\n",
    "                        [nn.Conv2d, {'in_channels':int(256*scale), 'out_channels':int(256*scale), 'kernel_size':3, 'dilation':2, 'padding':2}],\n",
    "                        [nn.BatchNorm2d, {'num_features':int(256*scale)}],\n",
    "                        [nn.SELU],\n",
    "                    ],\n",
    "                    [\n",
    "                        [nn.Conv2d, {'in_channels':int(256*scale), 'out_channels':int(256*scale), 'kernel_size':3, 'dilation':4, 'padding':4}],\n",
    "                        [nn.BatchNorm2d, {'num_features':int(256*scale)}],\n",
    "                        [nn.SELU],\n",
    "                    ],\n",
    "                    [\n",
    "                        [nn.Conv2d, {'in_channels':int(256*scale), 'out_channels':int(256*scale), 'kernel_size':3, 'dilation':2, 'padding':2}],\n",
    "                        [nn.BatchNorm2d, {'num_features':int(256*scale)}],\n",
    "                        [nn.SELU],\n",
    "                    ],\n",
    "                    [\n",
    "                        [nn.ConvTranspose2d, {'in_channels':int(256*scale), 'out_channels':int(128*scale), 'kernel_size':4, 'stride':2, 'padding':1}],\n",
    "                        [nn.BatchNorm2d, {'num_features':int(128*scale)}],\n",
    "                        [nn.SELU],\n",
    "                    ],\n",
    "                    [\n",
    "                        [nn.ConvTranspose2d, {'in_channels':int(128*scale), 'out_channels':int(64*scale), 'kernel_size':4, 'stride':2, 'padding':1}],\n",
    "                        [nn.BatchNorm2d, {'num_features':int(64*scale)}],\n",
    "                        [nn.SELU],\n",
    "                    ],\n",
    "                    [\n",
    "                        [nn.ConvTranspose2d, {'in_channels':int(64*scale), 'out_channels':int(32*scale), 'kernel_size':4, 'stride':2, 'padding':1}],\n",
    "                        [nn.BatchNorm2d, {'num_features':int(32*scale)}],\n",
    "                        [nn.SELU],\n",
    "                    ],\n",
    "                    [\n",
    "                        [nn.ConvTranspose2d, {'in_channels':int(32*scale), 'out_channels':int(32*scale), 'kernel_size':4, 'stride':2, 'padding':1}],\n",
    "                        [nn.BatchNorm2d, {'num_features':int(32*scale)}],\n",
    "                        [nn.SELU],\n",
    "                        [nn.Conv2d, {'in_channels':int(32*scale), 'out_channels':int(32*scale), 'kernel_size':3, 'padding':1}],\n",
    "                        [nn.SELU],\n",
    "                        [nn.Conv2d, {'in_channels':int(32*scale), 'out_channels':int(1), 'kernel_size':1, 'stride':1, 'padding':0}],\n",
    "                        [nn.Sigmoid],\n",
    "                    ],\n",
    "                    # [\n",
    "                    #     [nn.Flatten],\n",
    "                    #     [mlp_modules, {\n",
    "                    #         'layers':[n_preds,1024,512,64,n_targets],\n",
    "                    #         'dropout':[0.2,0.2,0.2,0.2,0.2],\n",
    "                    #         'hid_activation':nn.ELU,\n",
    "                    #         'out_activation':nn.Sigmoid,\n",
    "                    #         }],\n",
    "                    # ],\n",
    "               ]\n",
    "}\n",
    "model = model_func(**model_params).to(device)\n",
    "model\n",
    "\n",
    "# view dimensions at each layer of network\n",
    "print('stride = 2')\n",
    "x = th.tensor(predictor_train[:100].astype(np.float32)).to(device)\n",
    "print('input', x.size())\n",
    "for m_idx, module in enumerate(model):\n",
    "    x = module(x)\n",
    "    print('layer', m_idx+1, x.size())\n",
    "\n",
    "del model\n",
    "del x"
   ]
  },
  {
   "cell_type": "markdown",
   "id": "06499724-008e-4df7-84b3-5e0760a8826f",
   "metadata": {},
   "source": [
    "# MAKE PARAMETERS FOR ALL RUNS + RUN_NAMES"
   ]
  },
  {
   "cell_type": "code",
   "execution_count": 6,
   "id": "05fca553-dbde-40c8-98dd-ad11dd49b944",
   "metadata": {},
   "outputs": [
    {
     "name": "stdout",
     "output_type": "stream",
     "text": [
      "1 runs\n"
     ]
    }
   ],
   "source": [
    "# organize all runs\n",
    "cross_validation_params = []\n",
    "prediction_params = []\n",
    "benchmark_params = []\n",
    "run_names = []\n",
    "n_runs = 1\n",
    "criterion = nn.L1Loss()\n",
    "error_func = mean_absolute_percent_error_tensor\n",
    "patience = 10\n",
    "n_epochs = 10\n",
    "for run_idx in range(n_runs):\n",
    "    random_seed = run_idx\n",
    "    run_name = f'{run_idx}'\n",
    "    run_names.append(run_name)\n",
    "    cv_params = {\n",
    "        'force_overwrite':True,\n",
    "        'run_name':run_name,\n",
    "        'random_seed':random_seed,\n",
    "        'force_overwrite':True,\n",
    "        'nFolds':1,\n",
    "        'splits':[0.8, 0.2, 0.0],\n",
    "        'device':device,\n",
    "        'model_func':create_cnn,\n",
    "        'model_params':model_params,\n",
    "        'criterion':criterion,\n",
    "        'error_func':error_func,\n",
    "        'patience':n_epochs, \n",
    "        'max_epochs':n_epochs,\n",
    "        'mem_optim':True,\n",
    "    }\n",
    "    p_params = {\n",
    "        'run_name':run_name,\n",
    "        'device':device,\n",
    "    }\n",
    "    b_params = {\n",
    "        'run_name':run_name,\n",
    "        'err_funcs':{'r2':r2_score,'mape':mean_absolute_percent_error_numpy},\n",
    "        'device':device,\n",
    "    }\n",
    "    cross_validation_params.append(cv_params)\n",
    "    prediction_params.append(p_params)\n",
    "    benchmark_params.append(b_params)\n",
    "\n",
    "print(len(run_names), 'runs')"
   ]
  },
  {
   "cell_type": "markdown",
   "id": "4098b0e6-f2c9-46de-8966-3a618ad5fc89",
   "metadata": {},
   "source": [
    "# MAKE TRAINER TO RUN JOBS"
   ]
  },
  {
   "cell_type": "code",
   "execution_count": 7,
   "id": "41dc34cc-a935-490e-9cc4-d696845638ab",
   "metadata": {
    "tags": []
   },
   "outputs": [],
   "source": [
    "# expand dimensions into groups to be used by my cross validation code\n",
    "predictor_train = np.expand_dims(predictor_train,1)\n",
    "target_train = np.expand_dims(target_train,1)\n",
    "predictor_eval = np.expand_dims(predictor_eval,1)\n",
    "target_eval = np.expand_dims(target_eval,1)\n",
    "\n",
    "experiment_name = 'init'\n",
    "parent_folder='results/'\n",
    "trainer = Trainer(experiment_name, predictor_train, target_train, predictor_eval, target_eval, parent_folder, \n",
    "                  x_preproc_func, x_preproc_params, y_preproc_func, y_preproc_params, unprocess_func, unprocess_params)"
   ]
  },
  {
   "cell_type": "markdown",
   "id": "94d0af2e-187d-4591-9f46-bc4f88e37350",
   "metadata": {},
   "source": [
    "# RUN LIGHTWEIGHT JOBS - TRAIN/EVAL MODELS BUT DO NOT SAVE THEM"
   ]
  },
  {
   "cell_type": "code",
   "execution_count": 8,
   "id": "072c66e1-25f2-48b5-8775-8f94fd76e061",
   "metadata": {},
   "outputs": [
    {
     "data": {
      "image/png": "[encoded data removed]",
      "text/plain": [
       "<Figure size 640x480 with 1 Axes>"
      ]
     },
     "metadata": {},
     "output_type": "display_data"
    },
    {
     "name": "stdout",
     "output_type": "stream",
     "text": [
      "1 runs after\n"
     ]
    }
   ],
   "source": [
    "print(len(os.listdir(trainer.runs_path)), 'runs before')\n",
    "\n",
    "job_params = [['lightweight_job', {'run_name':run_name, \n",
    "               'delete_model':False,'force_overwrite':False, 'fold':0, \n",
    "'cross_validation_params':cross_validation_params[i], 'prediction_params':prediction_params[i], 'benchmark_params':benchmark_params[i],}\n",
    "            ] for i, run_name in enumerate(run_names)]\n",
    "        \n",
    "if hyper_parallel:\n",
    "    trainer.run_jobs(job_params, gpu_threads)\n",
    "else:\n",
    "    for job_param in job_params:\n",
    "        trainer.single_job(job_param[0], job_param[1])\n",
    "                         \n",
    "print(len(os.listdir(trainer.runs_path)), 'runs after')"
   ]
  },
  {
   "cell_type": "code",
   "execution_count": 9,
   "id": "595babfb-cabf-4f9b-84bf-57e5d7b36f17",
   "metadata": {},
   "outputs": [
    {
     "data": {
      "text/plain": [
       "{'0': {'r2': {'train': 0.7957348289530048,\n",
       "   'val': 0.7308315262481205,\n",
       "   'eval': 0.7756999872691589},\n",
       "  'mape': {'train': 14.397195663008256,\n",
       "   'val': 23.211274695354113,\n",
       "   'eval': 13.143475004139312}}}"
      ]
     },
     "execution_count": 9,
     "metadata": {},
     "output_type": "execute_result"
    }
   ],
   "source": [
    "trainer.combine_benchmarks()\n",
    "pk.load(open(trainer.experiment_path + 'benchmarks.p', 'rb'))"
   ]
  },
  {
   "cell_type": "code",
   "execution_count": 9,
   "id": "99bcaf46-d4e5-4641-aa5c-ce053b3ddd11",
   "metadata": {},
   "outputs": [
    {
     "data": {
      "text/plain": [
       "{'0': {'r2': {'train': 0.7957348289530048,\n",
       "   'val': 0.7308315262481205,\n",
       "   'eval': 0.7756999872691589},\n",
       "  'mape': {'train': 14.397195663008256,\n",
       "   'val': 23.211274695354113,\n",
       "   'eval': 13.143475004139312}}}"
      ]
     },
     "execution_count": 9,
     "metadata": {},
     "output_type": "execute_result"
    }
   ],
   "source": [
    "trainer.combine_benchmarks()\n",
    "pk.load(open(trainer.experiment_path + 'benchmarks.p', 'rb'))"
   ]
  },
  {
   "cell_type": "code",
   "execution_count": null,
   "id": "fbb2c2da-3c7f-47e0-94fb-c54bdd9e1aba",
   "metadata": {},
   "outputs": [],
   "source": []
  },
  {
   "cell_type": "code",
   "execution_count": null,
   "id": "7154ab1e-b74b-466e-8c4e-34ad53f10018",
   "metadata": {},
   "outputs": [],
   "source": [
    "# # dummy data\n",
    "# predictor_train = np.random.randint(1,255,[1_000,3,144,256]).astype(np.float32)\n",
    "# predictor_eval = np.random.randint(1,255,[1_000,3,144,256]).astype(np.float32)\n",
    "# target_train = np.random.randint(1,255,[1_000,1,144,256]).astype(np.float32)\n",
    "# target_eval = np.random.randint(1,255,[1_000,1,144,256]).astype(np.float32)\n",
    "# # extract parameters from input/ouput data\n",
    "# n_instances = predictor_train.shape[0]\n",
    "# n_channels = predictor_train.shape[1]\n",
    "# n_dim1 = predictor_train.shape[2]\n",
    "# n_dim2 = predictor_train.shape[3]"
   ]
  },
  {
   "cell_type": "code",
   "execution_count": null,
   "id": "428ce909-f859-49da-9aad-2280a1f48ee8",
   "metadata": {},
   "outputs": [],
   "source": [
    "# # make a scalable CNN following Zixia's depth network which is inspired by: https://ieeexplore.ieee.org/abstract/document/9318521\n",
    "# scale = 1\n",
    "# model_func = create_cnn\n",
    "# model_params = {\n",
    "#     'block_layers':[\n",
    "#                     [\n",
    "#                         [nn.Conv2d, {'in_channels':n_channels, 'out_channels':int(32*scale), 'kernel_size':4, 'stride':3}],\n",
    "#                         [nn.BatchNorm2d, {'num_features':int(32*scale)}],\n",
    "#                         [nn.SELU],\n",
    "#                     ],\n",
    "#                     [\n",
    "#                         [nn.Conv2d, {'in_channels':int(32*scale), 'out_channels':int(64*scale), 'kernel_size':4, 'stride':3}],\n",
    "#                         [nn.BatchNorm2d, {'num_features':int(64*scale)}],\n",
    "#                         [nn.SELU],\n",
    "#                     ],\n",
    "#                     [\n",
    "#                         [nn.Conv2d, {'in_channels':int(64*scale), 'out_channels':int(128*scale), 'kernel_size':4, 'stride':3}],\n",
    "#                         [nn.BatchNorm2d, {'num_features':int(128*scale)}],\n",
    "#                         [nn.SELU],\n",
    "#                     ],\n",
    "#                     [\n",
    "#                         [nn.Conv2d, {'in_channels':int(128*scale), 'out_channels':int(256*scale), 'kernel_size':4, 'stride':2, 'padding':1}],\n",
    "#                         [nn.BatchNorm2d, {'num_features':int(256*scale)}],\n",
    "#                         [nn.SELU],\n",
    "#                     ],\n",
    "#                     [\n",
    "#                         [nn.Conv2d, {'in_channels':int(256*scale), 'out_channels':int(256*scale), 'kernel_size':3, 'dilation':2, 'padding':2}],\n",
    "#                         [nn.BatchNorm2d, {'num_features':int(256*scale)}],\n",
    "#                         [nn.SELU],\n",
    "#                     ],\n",
    "#                     [\n",
    "#                         [nn.Conv2d, {'in_channels':int(256*scale), 'out_channels':int(256*scale), 'kernel_size':3, 'dilation':4, 'padding':4}],\n",
    "#                         [nn.BatchNorm2d, {'num_features':int(256*scale)}],\n",
    "#                         [nn.SELU],\n",
    "#                     ],\n",
    "#                     [\n",
    "#                         [nn.Conv2d, {'in_channels':int(256*scale), 'out_channels':int(256*scale), 'kernel_size':3, 'dilation':2, 'padding':2}],\n",
    "#                         [nn.BatchNorm2d, {'num_features':int(256*scale)}],\n",
    "#                         [nn.SELU],\n",
    "#                     ],\n",
    "#                     [\n",
    "#                         [nn.ConvTranspose2d, {'in_channels':int(256*scale), 'out_channels':int(128*scale), 'kernel_size':4, 'stride':2, 'padding':1}],\n",
    "#                         [nn.BatchNorm2d, {'num_features':int(128*scale)}],\n",
    "#                         [nn.SELU],\n",
    "#                     ],\n",
    "#                     [\n",
    "#                         [nn.ConvTranspose2d, {'in_channels':int(128*scale), 'out_channels':int(64*scale), 'kernel_size':4, 'stride':2, 'padding':1}],\n",
    "#                         [nn.BatchNorm2d, {'num_features':int(64*scale)}],\n",
    "#                         [nn.SELU],\n",
    "#                     ],\n",
    "#                     [\n",
    "#                         [nn.ConvTranspose2d, {'in_channels':int(64*scale), 'out_channels':int(32*scale), 'kernel_size':4, 'stride':2, 'padding':1}],\n",
    "#                         [nn.BatchNorm2d, {'num_features':int(32*scale)}],\n",
    "#                         [nn.SELU],\n",
    "#                     ],\n",
    "#                     [\n",
    "#                         [nn.ConvTranspose2d, {'in_channels':int(32*scale), 'out_channels':int(32*scale), 'kernel_size':4, 'stride':2, 'padding':1}],\n",
    "#                         [nn.BatchNorm2d, {'num_features':int(32*scale)}],\n",
    "#                         [nn.SELU],\n",
    "#                         [nn.Conv2d, {'in_channels':int(32*scale), 'out_channels':int(32*scale), 'kernel_size':3, 'padding':1}],\n",
    "#                         [nn.SELU],\n",
    "#                         [nn.Conv2d, {'in_channels':int(32*scale), 'out_channels':int(1), 'kernel_size':1, 'stride':1, 'padding':0}],\n",
    "#                         [nn.Sigmoid],\n",
    "#                     ],\n",
    "#                     # [\n",
    "#                     #     [nn.Flatten],\n",
    "#                     #     [mlp_modules, {\n",
    "#                     #         'layers':[n_preds,1024,512,64,n_targets],\n",
    "#                     #         'dropout':[0.2,0.2,0.2,0.2,0.2],\n",
    "#                     #         'hid_activation':nn.ELU,\n",
    "#                     #         'out_activation':nn.Sigmoid,\n",
    "#                     #         }],\n",
    "#                     # ],\n",
    "#                ]\n",
    "# }\n",
    "# model = model_func(**model_params).to(device)\n",
    "# model\n",
    "\n",
    "# # view dimensions at each layer of network\n",
    "# x = th.tensor(predictor_train[:100]).to(device)\n",
    "# print('stride = 3')\n",
    "# print('input', x.size())\n",
    "# for m_idx, module in enumerate(model):\n",
    "#     x = module(x)\n",
    "#     print('layer', m_idx+1, x.size())"
   ]
  },
  {
   "cell_type": "code",
   "execution_count": null,
   "id": "b93e4e75-c185-4976-bc1a-25c62ae0b005",
   "metadata": {},
   "outputs": [],
   "source": [
    "# # make a scalable CNN following Zixia's depth network which is inspired by: https://ieeexplore.ieee.org/abstract/document/9318521\n",
    "# scale = 1\n",
    "# model_func = create_cnn\n",
    "# model_params = {\n",
    "#     'block_layers':[\n",
    "#                     [\n",
    "#                         [nn.Conv2d, {'in_channels':n_channels, 'out_channels':int(32*scale), 'kernel_size':4, 'stride':3}],\n",
    "#                         [nn.BatchNorm2d, {'num_features':int(32*scale)}],\n",
    "#                         [nn.SELU],\n",
    "#                     ],\n",
    "#                     [\n",
    "#                         [nn.Conv2d, {'in_channels':int(32*scale), 'out_channels':int(64*scale), 'kernel_size':4, 'stride':3}],\n",
    "#                         [nn.BatchNorm2d, {'num_features':int(64*scale)}],\n",
    "#                         [nn.SELU],\n",
    "#                     ],\n",
    "#                     [\n",
    "#                         [nn.Conv2d, {'in_channels':int(64*scale), 'out_channels':int(128*scale), 'kernel_size':4, 'stride':3}],\n",
    "#                         [nn.BatchNorm2d, {'num_features':int(128*scale)}],\n",
    "#                         [nn.SELU],\n",
    "#                     ],\n",
    "#                     [\n",
    "#                         [nn.ConvTranspose2d, {'in_channels':int(128*scale), 'out_channels':int(128*scale), 'kernel_size':(3,2), 'stride':(3,4), 'dilation':(5,3), 'padding':(1,2)}],\n",
    "#                         [nn.BatchNorm2d, {'num_features':int(128*scale)}],\n",
    "#                         [nn.SELU],\n",
    "#                     ],\n",
    "#                     [\n",
    "#                         [nn.Conv2d, {'in_channels':int(128*scale), 'out_channels':int(256*scale), 'kernel_size':4, 'stride':2, 'padding':1}],\n",
    "#                         [nn.BatchNorm2d, {'num_features':int(256*scale)}],\n",
    "#                         [nn.SELU],\n",
    "#                     ],\n",
    "#                     [\n",
    "#                         [nn.Conv2d, {'in_channels':int(256*scale), 'out_channels':int(256*scale), 'kernel_size':3, 'dilation':2, 'padding':2}],\n",
    "#                         [nn.BatchNorm2d, {'num_features':int(256*scale)}],\n",
    "#                         [nn.SELU],\n",
    "#                     ],\n",
    "#                     [\n",
    "#                         [nn.Conv2d, {'in_channels':int(256*scale), 'out_channels':int(256*scale), 'kernel_size':3, 'dilation':4, 'padding':4}],\n",
    "#                         [nn.BatchNorm2d, {'num_features':int(256*scale)}],\n",
    "#                         [nn.SELU],\n",
    "#                     ],\n",
    "#                     [\n",
    "#                         [nn.Conv2d, {'in_channels':int(256*scale), 'out_channels':int(256*scale), 'kernel_size':3, 'dilation':2, 'padding':2}],\n",
    "#                         [nn.BatchNorm2d, {'num_features':int(256*scale)}],\n",
    "#                         [nn.SELU],\n",
    "#                     ],\n",
    "#                     [\n",
    "#                         [nn.ConvTranspose2d, {'in_channels':int(256*scale), 'out_channels':int(128*scale), 'kernel_size':4, 'stride':2, 'padding':1}],\n",
    "#                         [nn.BatchNorm2d, {'num_features':int(128*scale)}],\n",
    "#                         [nn.SELU],\n",
    "#                     ],\n",
    "#                     [\n",
    "#                         [nn.ConvTranspose2d, {'in_channels':int(128*scale), 'out_channels':int(64*scale), 'kernel_size':4, 'stride':2, 'padding':1}],\n",
    "#                         [nn.BatchNorm2d, {'num_features':int(64*scale)}],\n",
    "#                         [nn.SELU],\n",
    "#                     ],\n",
    "#                     [\n",
    "#                         [nn.ConvTranspose2d, {'in_channels':int(64*scale), 'out_channels':int(32*scale), 'kernel_size':4, 'stride':2, 'padding':1}],\n",
    "#                         [nn.BatchNorm2d, {'num_features':int(32*scale)}],\n",
    "#                         [nn.SELU],\n",
    "#                     ],\n",
    "#                     [\n",
    "#                         [nn.ConvTranspose2d, {'in_channels':int(32*scale), 'out_channels':int(32*scale), 'kernel_size':4, 'stride':2, 'padding':1}],\n",
    "#                         [nn.BatchNorm2d, {'num_features':int(32*scale)}],\n",
    "#                         [nn.SELU],\n",
    "#                         [nn.Conv2d, {'in_channels':int(32*scale), 'out_channels':int(32*scale), 'kernel_size':3, 'padding':1}],\n",
    "#                         [nn.SELU],\n",
    "#                         [nn.Conv2d, {'in_channels':int(32*scale), 'out_channels':int(1), 'kernel_size':1, 'stride':1, 'padding':0}],\n",
    "#                         [nn.Sigmoid],\n",
    "#                     ],\n",
    "#                     # [\n",
    "#                     #     [nn.Flatten],\n",
    "#                     #     [mlp_modules, {\n",
    "#                     #         'layers':[n_preds,1024,512,64,n_targets],\n",
    "#                     #         'dropout':[0.2,0.2,0.2,0.2,0.2],\n",
    "#                     #         'hid_activation':nn.ELU,\n",
    "#                     #         'out_activation':nn.Sigmoid,\n",
    "#                     #         }],\n",
    "#                     # ],\n",
    "#                ]\n",
    "# }\n",
    "# model = model_func(**model_params).to(device)\n",
    "# model\n",
    "\n",
    "# # view dimensions at each layer of network\n",
    "# x = th.tensor(predictor_train[:100]).to(device)\n",
    "# print('stride = 3 -- adjusted ')\n",
    "# print('input', x.size())\n",
    "# for m_idx, module in enumerate(model):\n",
    "#     x = module(x)\n",
    "#     print('layer', m_idx+1, x.size())"
   ]
  },
  {
   "cell_type": "code",
   "execution_count": null,
   "id": "e17c5b93-fc9e-49d0-8be0-056b43fbd99c",
   "metadata": {},
   "outputs": [],
   "source": [
    "# # MLP all flattened\n",
    "# model_func = create_mlp\n",
    "# model_params = {\n",
    "#     #'layers':[n_preds,128,64,64,32,16,n_targets],\n",
    "#     #'dropout':[0,0.2,0.2,0.2,0.2,0.2,0.2,0.2,0.2],\n",
    "#     'layers':[n_preds,1024,1024,512,256,64,n_targets],\n",
    "#     'hid_activation':nn.ELU,\n",
    "#     'out_activation':nn.Sigmoid,\n",
    "#     }\n",
    "# model = model_func(**model_params).to('cpu')\n",
    "# model"
   ]
  }
 ],
 "metadata": {
  "kernelspec": {
   "display_name": "Python 3 (ipykernel)",
   "language": "python",
   "name": "python3"
  },
  "language_info": {
   "codemirror_mode": {
    "name": "ipython",
    "version": 3
   },
   "file_extension": ".py",
   "mimetype": "text/x-python",
   "name": "python",
   "nbconvert_exporter": "python",
   "pygments_lexer": "ipython3",
   "version": "3.9.20"
  }
 },
 "nbformat": 4,
 "nbformat_minor": 5
}
