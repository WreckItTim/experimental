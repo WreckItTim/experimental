{
 "cells": [
  {
   "cell_type": "markdown",
   "id": "06c540b4-35a3-4d58-b74c-54e12598e11c",
   "metadata": {},
   "source": [
    "# init"
   ]
  },
  {
   "cell_type": "code",
   "execution_count": 1,
   "id": "85f62c13",
   "metadata": {
    "tags": []
   },
   "outputs": [
    {
     "name": "stdout",
     "output_type": "stream",
     "text": [
      "cpu count: 20\n",
      "gpu count: 3\n",
      "cuda avail: True\n"
     ]
    }
   ],
   "source": [
    "# SETUP - change home_dir path to parent directory of this repo\n",
    "import sys\n",
    "home_dir = '/home/tim/Dropbox/' # home directory of repo for yours corresponding to github repo\n",
    "sys.path.append(home_dir)\n",
    "from data.data_methods import *\n",
    "from supervised_learning.supervised_methods import *\n",
    "\n",
    "# the numpy arrays need to match the same floating type used by pytorch here\n",
    "th.set_default_dtype(th.float32)\n",
    "\n",
    "# remove some annoying tensorflow logging\n",
    "os.environ['TF_CPP_MIN_LOG_LEVEL'] = '3'\n",
    "\n",
    "# set directory to write all results to\n",
    "run_path = 'results/init/'\n",
    "os.makedirs(run_path, exist_ok=True)\n",
    "\n",
    "# set random seeds for replicability\n",
    "random_seed = 42\n",
    "random.seed(random_seed)\n",
    "np.random.seed(random_seed)\n",
    "th.manual_seed(random_seed)\n",
    "if th.cuda.is_available():\n",
    "    th.cuda.manual_seed_all(random_seed) \n",
    "\n",
    "# set file io\n",
    "save_model_to = f'{run_path}model.pth'\n",
    "save_evals_to = f'{run_path}evaluations.json'\n",
    "\n",
    "# harware params\n",
    "device = 'cuda:0'\n",
    "pytorch_threads = 4 # scale this down with more active processes running at same time\n",
    "num_workers = 2 # scale this down with RAM constraints\n",
    "batch_size = 128 # scale this down with VRAM constraints\n",
    "pin_memory = False # toggle on if training data is small enough to fit in VRAM"
   ]
  },
  {
   "cell_type": "markdown",
   "id": "54453fdf-abee-4edd-bbc2-8fa688b3c6f7",
   "metadata": {},
   "source": [
    "# prepare training and validation data"
   ]
  },
  {
   "cell_type": "code",
   "execution_count": 5,
   "id": "09aba869-7d8c-48bf-bf61-6b063e41cb54",
   "metadata": {},
   "outputs": [
    {
     "name": "stdout",
     "output_type": "stream",
     "text": [
      "Train shape: (97116, 3, 144, 256) (97116, 1, 144, 256)\n",
      "Val shape: (1000, 3, 144, 256) (1000, 1, 144, 256)\n"
     ]
    }
   ],
   "source": [
    "# read data\n",
    "# SETUP - potentially change prepared_datasets_path path to yours\n",
    "data = get_data(\n",
    "    region='train', \n",
    "    sensor_names=['SceneV1', 'DepthV1'], \n",
    "    airsim_map='AirSimNH',\n",
    ")\n",
    "X = data['observations']['SceneV1']\n",
    "Y = data['observations']['DepthV1']\n",
    "\n",
    "# need to shuffle data before split, otherwise data is ordered from bottom left corner to top right corner of map\n",
    "# read_shuffled_idxs=True to maintain static train/val splits\n",
    "read_shuffled_idxs = True\n",
    "shuffled_idxs_path = f'shuffled_idxs.p'\n",
    "if read_shuffled_idxs and os.path.exists(shuffled_idxs_path):\n",
    "    idxs = pk_read(shuffled_idxs_path)\n",
    "else:\n",
    "    idxs = [i for i in range(len(X))]\n",
    "    random.shuffle(idxs)\n",
    "    pk_write(idxs, shuffled_idxs_path)\n",
    "\n",
    "# keep all data or sample from data\n",
    "# takes a little under 14gb of RAM for all data\n",
    "load_full = True\n",
    "if load_full:\n",
    "    n_val = 10_000\n",
    "    X_train = X[idxs[n_val:]]\n",
    "    Y_train = Y[idxs[n_val:]]     \n",
    "    X_val = X[idxs[:n_val]]\n",
    "    Y_val = Y[idxs[:n_val]]\n",
    "else:\n",
    "    n_train, n_val = 10_000, 10_000\n",
    "    X_train = X[idxs[:n_train]]\n",
    "    Y_train = Y[idxs[:n_train]]\n",
    "    if n_val > 0:\n",
    "        X_val = X[idxs[-1*n_val:]]\n",
    "        Y_val = Y[idxs[-1*n_val:]]\n",
    "    else:\n",
    "        X_val = None\n",
    "        Y_val = None\n",
    "    del X, Y\n",
    "\n",
    "# extract parameters from input/ouput data\n",
    "n_instances = X_train.shape[0]\n",
    "n_channels = X_train.shape[1]\n",
    "n_dim1 = X_train.shape[2]\n",
    "n_dim2 = X_train.shape[3]\n",
    "\n",
    "print('Train shape:', X_train.shape, Y_train.shape)\n",
    "print('Val shape:', X_val.shape, Y_val.shape)"
   ]
  },
  {
   "cell_type": "markdown",
   "id": "616fd4c7-81ed-4449-9422-350f2d1a2310",
   "metadata": {},
   "source": [
    "# process params"
   ]
  },
  {
   "cell_type": "code",
   "execution_count": 6,
   "id": "fd2c9f7c-3e7d-4eea-a226-da0b385a60f4",
   "metadata": {},
   "outputs": [],
   "source": [
    "X_mean = 94.11807077041952 #np.mean(X_train)\n",
    "X_std = 80.77841523336176 #np.std(X_train)\n",
    "Y_min = 0\n",
    "Y_max = 255\n",
    "\n",
    "def x_preproc_func(x, _mean, _std):\n",
    "    return (x.astype(np.float32)-_mean)/_std\n",
    "def y_preproc_func(y, _min, _max):\n",
    "    return (y.astype(np.float32)-_min)/(_max-_min)\n",
    "x_preproc_params={'_mean':X_mean, '_std':X_std}\n",
    "y_preproc_params={'_min':Y_min, '_max':Y_max}\n",
    "def unprocess_func(p, _min, _max):\n",
    "    p = (p*(_max-_min)+_min).astype(np.uint8)\n",
    "    p[p==0] = 1\n",
    "    return p\n",
    "unprocess_params={'_min':Y_min, '_max':Y_max}"
   ]
  },
  {
   "cell_type": "markdown",
   "id": "05903f32-9ada-4460-9c90-03533deda724",
   "metadata": {},
   "source": [
    "# set model architecture"
   ]
  },
  {
   "cell_type": "code",
   "execution_count": 7,
   "id": "53d16e7b-6d07-44b9-860d-e1eab52224ae",
   "metadata": {},
   "outputs": [
    {
     "name": "stdout",
     "output_type": "stream",
     "text": [
      "Sequential(\n",
      "  (0): Sequential(\n",
      "    (0): Conv2d(3, 32, kernel_size=(4, 4), stride=(2, 2), padding=(1, 1))\n",
      "    (1): BatchNorm2d(32, eps=1e-05, momentum=0.1, affine=True, track_running_stats=True)\n",
      "    (2): SELU()\n",
      "  )\n",
      "  (1): Sequential(\n",
      "    (0): Conv2d(32, 64, kernel_size=(4, 4), stride=(2, 2), padding=(1, 1))\n",
      "    (1): BatchNorm2d(64, eps=1e-05, momentum=0.1, affine=True, track_running_stats=True)\n",
      "    (2): SELU()\n",
      "  )\n",
      "  (2): Sequential(\n",
      "    (0): Conv2d(64, 128, kernel_size=(4, 4), stride=(2, 2), padding=(1, 1))\n",
      "    (1): BatchNorm2d(128, eps=1e-05, momentum=0.1, affine=True, track_running_stats=True)\n",
      "    (2): SELU()\n",
      "  )\n",
      "  (3): Sequential(\n",
      "    (0): Conv2d(128, 256, kernel_size=(4, 4), stride=(2, 2), padding=(1, 1))\n",
      "    (1): BatchNorm2d(256, eps=1e-05, momentum=0.1, affine=True, track_running_stats=True)\n",
      "    (2): SELU()\n",
      "  )\n",
      "  (4): Sequential(\n",
      "    (0): Conv2d(256, 256, kernel_size=(3, 3), stride=(1, 1), padding=(2, 2), dilation=(2, 2))\n",
      "    (1): BatchNorm2d(256, eps=1e-05, momentum=0.1, affine=True, track_running_stats=True)\n",
      "    (2): SELU()\n",
      "  )\n",
      "  (5): Sequential(\n",
      "    (0): Conv2d(256, 256, kernel_size=(3, 3), stride=(1, 1), padding=(4, 4), dilation=(4, 4))\n",
      "    (1): BatchNorm2d(256, eps=1e-05, momentum=0.1, affine=True, track_running_stats=True)\n",
      "    (2): SELU()\n",
      "  )\n",
      "  (6): Sequential(\n",
      "    (0): Conv2d(256, 256, kernel_size=(3, 3), stride=(1, 1), padding=(2, 2), dilation=(2, 2))\n",
      "    (1): BatchNorm2d(256, eps=1e-05, momentum=0.1, affine=True, track_running_stats=True)\n",
      "    (2): SELU()\n",
      "  )\n",
      "  (7): Sequential(\n",
      "    (0): ConvTranspose2d(256, 128, kernel_size=(4, 4), stride=(2, 2), padding=(1, 1))\n",
      "    (1): BatchNorm2d(128, eps=1e-05, momentum=0.1, affine=True, track_running_stats=True)\n",
      "    (2): SELU()\n",
      "  )\n",
      "  (8): Sequential(\n",
      "    (0): ConvTranspose2d(128, 64, kernel_size=(4, 4), stride=(2, 2), padding=(1, 1))\n",
      "    (1): BatchNorm2d(64, eps=1e-05, momentum=0.1, affine=True, track_running_stats=True)\n",
      "    (2): SELU()\n",
      "  )\n",
      "  (9): Sequential(\n",
      "    (0): ConvTranspose2d(64, 32, kernel_size=(4, 4), stride=(2, 2), padding=(1, 1))\n",
      "    (1): BatchNorm2d(32, eps=1e-05, momentum=0.1, affine=True, track_running_stats=True)\n",
      "    (2): SELU()\n",
      "  )\n",
      "  (10): Sequential(\n",
      "    (0): ConvTranspose2d(32, 32, kernel_size=(4, 4), stride=(2, 2), padding=(1, 1))\n",
      "    (1): BatchNorm2d(32, eps=1e-05, momentum=0.1, affine=True, track_running_stats=True)\n",
      "    (2): SELU()\n",
      "    (3): Conv2d(32, 32, kernel_size=(3, 3), stride=(1, 1), padding=(1, 1))\n",
      "    (4): SELU()\n",
      "    (5): Conv2d(32, 1, kernel_size=(1, 1), stride=(1, 1))\n",
      "    (6): Sigmoid()\n",
      "  )\n",
      ")\n"
     ]
    }
   ],
   "source": [
    "# DGNLNet https://ieeexplore.ieee.org/abstract/document/9318521\n",
    "# make a scalable CNN following Zixia's depth network inspired from above\n",
    "scale = 1 # scales number of channels in each layer\n",
    "model_func = create_cnn\n",
    "model_params = {\n",
    "    'block_layers':[\n",
    "            [\n",
    "                [nn.Conv2d, {'in_channels':n_channels, 'out_channels':int(32*scale), 'kernel_size':4, 'stride':2, 'padding':1}],\n",
    "                [nn.BatchNorm2d, {'num_features':int(32*scale)}],\n",
    "                [nn.SELU],\n",
    "            ],\n",
    "            [\n",
    "                [nn.Conv2d, {'in_channels':int(32*scale), 'out_channels':int(64*scale), 'kernel_size':4, 'stride':2, 'padding':1}],\n",
    "                [nn.BatchNorm2d, {'num_features':int(64*scale)}],\n",
    "                [nn.SELU],\n",
    "            ],\n",
    "            [\n",
    "                [nn.Conv2d, {'in_channels':int(64*scale), 'out_channels':int(128*scale), 'kernel_size':4, 'stride':2, 'padding':1}],\n",
    "                [nn.BatchNorm2d, {'num_features':int(128*scale)}],\n",
    "                [nn.SELU],\n",
    "            ],\n",
    "            [\n",
    "                [nn.Conv2d, {'in_channels':int(128*scale), 'out_channels':int(256*scale), 'kernel_size':4, 'stride':2, 'padding':1}],\n",
    "                [nn.BatchNorm2d, {'num_features':int(256*scale)}],\n",
    "                [nn.SELU],\n",
    "            ],\n",
    "            [\n",
    "                [nn.Conv2d, {'in_channels':int(256*scale), 'out_channels':int(256*scale), 'kernel_size':3, 'dilation':2, 'padding':2}],\n",
    "                [nn.BatchNorm2d, {'num_features':int(256*scale)}],\n",
    "                [nn.SELU],\n",
    "            ],\n",
    "            [\n",
    "                [nn.Conv2d, {'in_channels':int(256*scale), 'out_channels':int(256*scale), 'kernel_size':3, 'dilation':4, 'padding':4}],\n",
    "                [nn.BatchNorm2d, {'num_features':int(256*scale)}],\n",
    "                [nn.SELU],\n",
    "            ],\n",
    "            [\n",
    "                [nn.Conv2d, {'in_channels':int(256*scale), 'out_channels':int(256*scale), 'kernel_size':3, 'dilation':2, 'padding':2}],\n",
    "                [nn.BatchNorm2d, {'num_features':int(256*scale)}],\n",
    "                [nn.SELU],\n",
    "            ],\n",
    "            [\n",
    "                [nn.ConvTranspose2d, {'in_channels':int(256*scale), 'out_channels':int(128*scale), 'kernel_size':4, 'stride':2, 'padding':1}],\n",
    "                [nn.BatchNorm2d, {'num_features':int(128*scale)}],\n",
    "                [nn.SELU],\n",
    "            ],\n",
    "            [\n",
    "                [nn.ConvTranspose2d, {'in_channels':int(128*scale), 'out_channels':int(64*scale), 'kernel_size':4, 'stride':2, 'padding':1}],\n",
    "                [nn.BatchNorm2d, {'num_features':int(64*scale)}],\n",
    "                [nn.SELU],\n",
    "            ],\n",
    "            [\n",
    "                [nn.ConvTranspose2d, {'in_channels':int(64*scale), 'out_channels':int(32*scale), 'kernel_size':4, 'stride':2, 'padding':1}],\n",
    "                [nn.BatchNorm2d, {'num_features':int(32*scale)}],\n",
    "                [nn.SELU],\n",
    "            ],\n",
    "            [\n",
    "                [nn.ConvTranspose2d, {'in_channels':int(32*scale), 'out_channels':int(32*scale), 'kernel_size':4, 'stride':2, 'padding':1}],\n",
    "                [nn.BatchNorm2d, {'num_features':int(32*scale)}],\n",
    "                [nn.SELU],\n",
    "                [nn.Conv2d, {'in_channels':int(32*scale), 'out_channels':int(32*scale), 'kernel_size':3, 'padding':1}],\n",
    "                [nn.SELU],\n",
    "                [nn.Conv2d, {'in_channels':int(32*scale), 'out_channels':int(1), 'kernel_size':1, 'stride':1, 'padding':0}],\n",
    "                [nn.Sigmoid],\n",
    "            ],\n",
    "       ]\n",
    "}\n",
    "model = model_func(**model_params).to(device)\n",
    "print(model)\n",
    "del model"
   ]
  },
  {
   "cell_type": "markdown",
   "id": "1ed44173-60b1-4d38-a035-4a85cbfa8f73",
   "metadata": {},
   "source": [
    "# train model"
   ]
  },
  {
   "cell_type": "code",
   "execution_count": null,
   "id": "fbb2c2da-3c7f-47e0-94fb-c54bdd9e1aba",
   "metadata": {},
   "outputs": [
    {
     "data": {
      "image/png": "[encoded data removed]",
      "text/plain": [
       "<Figure size 640x480 with 1 Axes>"
      ]
     },
     "metadata": {},
     "output_type": "display_data"
    }
   ],
   "source": [
    "# with the full dataset this practically converges in 1 epoch\n",
    "# however I have set to do early stopping which takes about 30 minutes to train\n",
    "model, train_errors, val_errors, train_times = one_shot(model_func, model_params, run_path, X_train, Y_train, X_val, Y_val,\n",
    "             optimizier_func=th.optim.Adam, optimizer_params={}, error_func=mean_absolute_percent_error_tensor, minimize_error=True,\n",
    "             criterion=nn.L1Loss(), patience=10, max_epochs=100, \n",
    "             augmentors=None, sample_size=None, device=device, batch_size=batch_size, pytorch_threads=pytorch_threads, num_workers=num_workers, pin_memory=pin_memory,\n",
    "             checkpoint_freq=0, random_seed=random_seed, mem_optim=True, show_curve=True, show_curve_freq=1,\n",
    "             x_preproc_func=x_preproc_func, x_preproc_params=x_preproc_params, y_preproc_func=y_preproc_func, y_preproc_params=y_preproc_params,\n",
    "            )\n",
    "th.save(model, save_model_to)"
   ]
  },
  {
   "cell_type": "markdown",
   "id": "212919ea-8129-4673-81d9-8459e119b423",
   "metadata": {},
   "source": [
    "# eval model"
   ]
  },
  {
   "cell_type": "code",
   "execution_count": null,
   "id": "3c2a5cdb-55a5-4589-acea-3c30ec972281",
   "metadata": {},
   "outputs": [],
   "source": [
    "# clear up some RAM\n",
    "del X_train, Y_train\n",
    "\n",
    "# test data takes a little under X gb of RAM, and a little under 2 minutes to run\n",
    "X_test = np.load(f'{prepared_datasets_path}rgb_to_depth_v1/test_rgb.npy')\n",
    "Y_test = np.load(f'{prepared_datasets_path}rgb_to_depth_v1/test_depth.npy')\n",
    "P_test, predict_time = predict_model(model, device, X_test, Y_test.shape, x_preproc_func=x_preproc_func, x_preproc_params=x_preproc_params, \n",
    "                       batch_size=batch_size, pytorch_threads=pytorch_threads, num_workers=num_workers, pin_memory=False,)\n",
    "P_test = unprocess_func(P_test, **unprocess_params)\n",
    "evaluations = {\n",
    "    'r2':r2_score(Y_test, P_test),\n",
    "    'mape':mean_absolute_percent_error_numpy(Y_test, P_test),\n",
    "    'predict_time':predict_time,\n",
    "    'n_epochs':len(train_times)-1,\n",
    "    'train_time':float(np.sum(train_times)),\n",
    "}\n",
    "print(evaluations)\n",
    "evaluations['train_errors'] = train_errors\n",
    "evaluations['val_errors'] = val_errors\n",
    "evaluations['train_times'] = train_times\n",
    "write_json(evaluations, save_evals_to)\n",
    "\n",
    "# clear up some RAM\n",
    "del X_test, Y_test, P_test"
   ]
  },
  {
   "cell_type": "code",
   "execution_count": null,
   "id": "71247282-fa42-4865-8c6e-a191308d79f0",
   "metadata": {},
   "outputs": [],
   "source": []
  }
 ],
 "metadata": {
  "kernelspec": {
   "display_name": "Python 3 (ipykernel)",
   "language": "python",
   "name": "python3"
  },
  "language_info": {
   "codemirror_mode": {
    "name": "ipython",
    "version": 3
   },
   "file_extension": ".py",
   "mimetype": "text/x-python",
   "name": "python",
   "nbconvert_exporter": "python",
   "pygments_lexer": "ipython3",
   "version": "3.9.20"
  }
 },
 "nbformat": 4,
 "nbformat_minor": 5
}
