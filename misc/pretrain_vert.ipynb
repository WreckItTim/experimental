{
 "cells": [
  {
   "cell_type": "code",
   "execution_count": 1,
   "id": "44b012db",
   "metadata": {},
   "outputs": [],
   "source": [
    "from time import time\n",
    "import json\n",
    "import numpy as np\n",
    "import os\n",
    "from stable_baselines3 import TD3 as sb3TD3\n",
    "import torch\n",
    "import torch.nn as nn\n",
    "import torch.nn.functional as F\n",
    "import math\n",
    "from IPython.display import clear_output\n",
    "import matplotlib.pyplot as plt\n",
    "import copy\n",
    "from hyperopt import fmin, tpe, hp\n",
    "import pickle\n",
    "# simple stopwatch to time whatevs, in (float) seconds\n",
    "# keeps track of laps along with final time\n",
    "class Stopwatch:\n",
    "    def __init__(self):\n",
    "            self.start_time = time()\n",
    "            self.last_time = self.start_time\n",
    "            self.laps = []\n",
    "    def lap(self):\n",
    "        this_time = time()\n",
    "        delta_time = this_time - self.last_time\n",
    "        self.laps.append(delta_time)\n",
    "        self.last_time = this_time\n",
    "        return delta_time\n",
    "    def stop(self):\n",
    "        self.stop_time = time()\n",
    "        self.delta_time = self.stop_time - self.start_time\n",
    "        return self.delta_time"
   ]
  },
  {
   "cell_type": "code",
   "execution_count": 2,
   "id": "79790f3c",
   "metadata": {},
   "outputs": [
    {
     "name": "stdout",
     "output_type": "stream",
     "text": [
      "Sequential(\n",
      "  (0): Linear(in_features=212, out_features=32, bias=True)\n",
      "  (1): ReLU()\n",
      "  (2): Linear(in_features=32, out_features=32, bias=True)\n",
      "  (3): ReLU()\n",
      "  (4): Linear(in_features=32, out_features=32, bias=True)\n",
      "  (5): ReLU()\n",
      "  (6): Linear(in_features=32, out_features=3, bias=True)\n",
      "  (7): Tanh()\n",
      ")\n"
     ]
    },
    {
     "data": {
      "text/plain": [
       "<All keys matched successfully>"
      ]
     },
     "execution_count": 2,
     "metadata": {},
     "output_type": "execute_result"
    }
   ],
   "source": [
    "nLayers = 3\n",
    "nNodes = 2**5\n",
    "learning_rate = 10**(int(-1*3))#params['learning_rate']))\n",
    "weight_decay = 10**(int(-1*6))\n",
    "eps = 1e-8#10**(int(-1*int(params['eps'])))\n",
    "patience = 10#int(params['patience'])\n",
    "\n",
    "activation_fn = nn.ReLU\n",
    "with_bias = True\n",
    "input_dim = 212\n",
    "net_arch = [nNodes for _ in range(nLayers)]\n",
    "output_dim = 3\n",
    "\n",
    "modules = []\n",
    "if nLayers == 0:\n",
    "    modules.append(nn.Linear(input_dim, output_dim, bias=with_bias))\n",
    "else:\n",
    "    modules.append(nn.Linear(input_dim, net_arch[0], bias=with_bias))\n",
    "    modules.append(activation_fn())\n",
    "    for idx in range(len(net_arch) - 1):\n",
    "        modules.append(nn.Linear(net_arch[idx], net_arch[idx + 1], bias=with_bias))\n",
    "        modules.append(activation_fn())\n",
    "    modules.append(nn.Linear(net_arch[-1], output_dim, bias=with_bias))\n",
    "modules.append(nn.Tanh())\n",
    "actor = nn.Sequential(*modules)\n",
    "device = torch.device(\"cuda\")\n",
    "actor.cuda()\n",
    "actor_weights = torch.load('actor_pretrained_weights_vert.pt')\n",
    "print(actor)\n",
    "actor.load_state_dict(actor_weights)"
   ]
  },
  {
   "cell_type": "code",
   "execution_count": 3,
   "id": "972dfd3d",
   "metadata": {},
   "outputs": [
    {
     "name": "stdout",
     "output_type": "stream",
     "text": [
      "Sequential(\n",
      "  (0): Linear(in_features=215, out_features=32, bias=True)\n",
      "  (1): ReLU()\n",
      "  (2): Linear(in_features=32, out_features=32, bias=True)\n",
      "  (3): ReLU()\n",
      "  (4): Linear(in_features=32, out_features=32, bias=True)\n",
      "  (5): ReLU()\n",
      "  (6): Linear(in_features=32, out_features=1, bias=True)\n",
      ")\n"
     ]
    },
    {
     "data": {
      "text/plain": [
       "<All keys matched successfully>"
      ]
     },
     "execution_count": 3,
     "metadata": {},
     "output_type": "execute_result"
    }
   ],
   "source": [
    "nLayers = 3\n",
    "nNodes = 2**5\n",
    "learning_rate = 10**(int(-1*3))#params['learning_rate']))\n",
    "weight_decay = 10**(int(-1*6))\n",
    "eps = 1e-8#10**(int(-1*int(params['eps'])))\n",
    "patience = 10#int(params['patience'])\n",
    "\n",
    "activation_fn = nn.ReLU\n",
    "with_bias = True\n",
    "input_dim = 215\n",
    "net_arch = [nNodes for _ in range(nLayers)]\n",
    "output_dim = 1\n",
    "\n",
    "modules = []\n",
    "if nLayers == 0:\n",
    "    modules.append(nn.Linear(input_dim, output_dim, bias=with_bias))\n",
    "else:\n",
    "    modules.append(nn.Linear(input_dim, net_arch[0], bias=with_bias))\n",
    "    modules.append(activation_fn())\n",
    "    for idx in range(len(net_arch) - 1):\n",
    "        modules.append(nn.Linear(net_arch[idx], net_arch[idx + 1], bias=with_bias))\n",
    "        modules.append(activation_fn())\n",
    "    modules.append(nn.Linear(net_arch[-1], output_dim, bias=with_bias))\n",
    "critic = nn.Sequential(*modules)\n",
    "device = torch.device(\"cuda\")\n",
    "critic.cuda()\n",
    "critic_weights = torch.load('critic_pretrained_weights_vert.pt')\n",
    "print(critic)\n",
    "critic.load_state_dict(critic_weights)"
   ]
  },
  {
   "cell_type": "code",
   "execution_count": 5,
   "id": "3874c843",
   "metadata": {},
   "outputs": [],
   "source": [
    "data_dir = 'data_alpha/' # vertical, 25x25 forward and belly depths\n",
    "observations = {}\n",
    "files = os.listdir(data_dir)\n",
    "for fname in files:\n",
    "    fpath = data_dir + fname\n",
    "    if 'observations' in fname:\n",
    "        observation_set = np.load(fpath, allow_pickle=True)\n",
    "        observations.update(observation_set)\n",
    "Xs = {\n",
    "    'train':[],\n",
    "    'val':[],\n",
    "    'test':[],\n",
    "}\n",
    "Ys = {\n",
    "    'train':[],\n",
    "    'val':[],\n",
    "    'test':[],\n",
    "}\n",
    "XYs = {\n",
    "    'train':[],\n",
    "    'val':[],\n",
    "    'test':[],\n",
    "}\n",
    "Qs = {\n",
    "    'train':[],\n",
    "    'val':[],\n",
    "    'test':[],\n",
    "}\n",
    "nSteps = []\n",
    "for fname in files:\n",
    "    fpath = data_dir + fname\n",
    "    if 'states' in fname:\n",
    "        jdict = json.load(open(fpath, 'r'))\n",
    "        for episode in jdict:\n",
    "            gfile = jdict[episode]['step_0']['fname']\n",
    "            if 'part2' in gfile or 'part3' in gfile or 'horizontal' in gfile:\n",
    "                continue\n",
    "            if 'train' in gfile:\n",
    "                batch = 'train'\n",
    "            if 'val' in gfile:\n",
    "                batch = 'val'\n",
    "            if 'test' in gfile:\n",
    "                batch = 'test'\n",
    "            nSteps.append(len(jdict[episode])-1)\n",
    "            start = np.array(jdict[episode]['step_0']['drone_position'], dtype=float)\n",
    "            goal = np.array(jdict[episode]['step_0']['goal_position'], dtype=float)\n",
    "            last_distance = np.linalg.norm(goal-start)\n",
    "            rs = []\n",
    "            for step in jdict[episode]:\n",
    "                if step == 'step_0':\n",
    "                    continue\n",
    "                state = jdict[episode][step]\n",
    "                actions = state['rl_output']\n",
    "                observation_name = state['observation_name']\n",
    "                observation = observations[observation_name]\n",
    "                Xs[batch].append(list(observation))\n",
    "                Ys[batch].append(list(np.clip(actions, -1, 1)))\n",
    "                XYs[batch].append(list(observation) + list(np.clip(actions, -1, 1)))\n",
    "                drone = np.array(state['drone_position'], dtype=float)\n",
    "                this_distance = np.linalg.norm(goal-drone)\n",
    "                delta_distance = last_distance - this_distance\n",
    "                last_distance = this_distance\n",
    "                if this_distance <= 4:\n",
    "                    r = 100\n",
    "                else:\n",
    "                    r = .1*np.tanh(delta_distance) - 1\n",
    "                rs.append(r)\n",
    "                if this_distance <= 4:\n",
    "                    break\n",
    "            qs = [100]\n",
    "            gamma = 0.99\n",
    "            for i in range(len(rs)-2,-1,-1):\n",
    "                qs.append(rs[i] + gamma * qs[-1])\n",
    "            qs = qs[::-1]\n",
    "            Qs[batch] = Qs[batch] + qs\n",
    "for batch in Xs:\n",
    "    Xs[batch] = np.array(Xs[batch])\n",
    "for batch in Ys:\n",
    "    Ys[batch] = np.array(Ys[batch])\n",
    "for batch in XYs:\n",
    "    XYs[batch] = np.array(XYs[batch])\n",
    "for batch in Qs:\n",
    "    Qs[batch] = np.array(Qs[batch])"
   ]
  },
  {
   "cell_type": "code",
   "execution_count": 6,
   "id": "2ca9d5fa",
   "metadata": {},
   "outputs": [],
   "source": [
    "class DatasetActor(torch.utils.data.Dataset):\n",
    "    def __init__(self, X, y):\n",
    "        self.X = torch.as_tensor(X.copy(), device = torch.device(\"cuda\")).float()\n",
    "        self.y = torch.as_tensor(y.copy(), device = torch.device(\"cuda\")).float()\n",
    "\n",
    "    def __len__(self):\n",
    "        return len(self.y)\n",
    "\n",
    "    def __getitem__(self, index):\n",
    "        return self.X[index], self.y[index]\n",
    "    \n",
    "training_set_actor = DatasetActor(Xs['train'], Ys['train'])\n",
    "validation_set_actor = DatasetActor(Xs['val'], Ys['val'])\n",
    "testing_set_actor = DatasetActor(Xs['test'], Ys['test'])\n",
    "\n",
    "batch_size = 32\n",
    "params = {'batch_size': batch_size,\n",
    "          'shuffle': True,}\n",
    "training_loader_actor = torch.utils.data.DataLoader(training_set_actor, **params)\n",
    "params = {'batch_size': batch_size,\n",
    "          'shuffle': False,}\n",
    "validation_loader_actor = torch.utils.data.DataLoader(validation_set_actor, **params)\n",
    "testing_loader_actor = torch.utils.data.DataLoader(testing_set_actor, **params)"
   ]
  },
  {
   "cell_type": "code",
   "execution_count": 7,
   "id": "4a032636",
   "metadata": {},
   "outputs": [],
   "source": [
    "class DatasetCritic(torch.utils.data.Dataset):\n",
    "    def __init__(self, Xy, q):\n",
    "        self.Xy = torch.as_tensor(Xy.copy(), device = torch.device(\"cuda\")).float()\n",
    "        self.q = torch.as_tensor(q.copy(), device = torch.device(\"cuda\")).float()\n",
    "\n",
    "    def __len__(self):\n",
    "        return len(self.q)\n",
    "\n",
    "    def __getitem__(self, index):\n",
    "        return self.Xy[index], self.q[index]\n",
    "    \n",
    "training_set_critic = DatasetCritic(XYs['train'], Qs['train'])\n",
    "validation_set_critic = DatasetCritic(XYs['val'], Qs['val'])\n",
    "testing_set_critic = DatasetCritic(XYs['test'], Qs['test'])\n",
    "\n",
    "batch_size = 32\n",
    "params = {'batch_size': batch_size,\n",
    "          'shuffle': True,}\n",
    "training_loader_critic = torch.utils.data.DataLoader(training_set_critic, **params)\n",
    "params = {'batch_size': batch_size,\n",
    "          'shuffle': False,}\n",
    "validation_loader_critic = torch.utils.data.DataLoader(validation_set_critic, **params)\n",
    "testing_loader_critic = torch.utils.data.DataLoader(testing_set_critic, **params)"
   ]
  },
  {
   "cell_type": "code",
   "execution_count": 8,
   "id": "78ae4f23",
   "metadata": {},
   "outputs": [],
   "source": [
    "x, y = next(iter(testing_loader_actor))\n",
    "xy, q = next(iter(testing_loader_critic))"
   ]
  },
  {
   "cell_type": "code",
   "execution_count": 9,
   "id": "7382ab1d",
   "metadata": {},
   "outputs": [
    {
     "name": "stdout",
     "output_type": "stream",
     "text": [
      "Actor(\n",
      "  (features_extractor): FlattenExtractor(\n",
      "    (flatten): Flatten(start_dim=1, end_dim=-1)\n",
      "  )\n",
      "  (mu): Sequential(\n",
      "    (0): Linear(in_features=212, out_features=32, bias=True)\n",
      "    (1): ReLU()\n",
      "    (2): Linear(in_features=32, out_features=32, bias=True)\n",
      "    (3): ReLU()\n",
      "    (4): Linear(in_features=32, out_features=32, bias=True)\n",
      "    (5): ReLU()\n",
      "    (6): Linear(in_features=32, out_features=3, bias=True)\n",
      "    (7): Tanh()\n",
      "  )\n",
      ")\n",
      "ContinuousCritic(\n",
      "  (features_extractor): FlattenExtractor(\n",
      "    (flatten): Flatten(start_dim=1, end_dim=-1)\n",
      "  )\n",
      "  (qf0): Sequential(\n",
      "    (0): Linear(in_features=215, out_features=32, bias=True)\n",
      "    (1): ReLU()\n",
      "    (2): Linear(in_features=32, out_features=32, bias=True)\n",
      "    (3): ReLU()\n",
      "    (4): Linear(in_features=32, out_features=32, bias=True)\n",
      "    (5): ReLU()\n",
      "    (6): Linear(in_features=32, out_features=1, bias=True)\n",
      "  )\n",
      "  (qf1): Sequential(\n",
      "    (0): Linear(in_features=215, out_features=32, bias=True)\n",
      "    (1): ReLU()\n",
      "    (2): Linear(in_features=32, out_features=32, bias=True)\n",
      "    (3): ReLU()\n",
      "    (4): Linear(in_features=32, out_features=32, bias=True)\n",
      "    (5): ReLU()\n",
      "    (6): Linear(in_features=32, out_features=1, bias=True)\n",
      "  )\n",
      ")\n"
     ]
    }
   ],
   "source": [
    "sb3model = sb3TD3.load('model_in_vert.zip')\n",
    "device = torch.device(\"cuda\")\n",
    "sb3model.actor.cuda()\n",
    "sb3model.critic.cuda()\n",
    "print(sb3model.actor)\n",
    "print(sb3model.critic)"
   ]
  },
  {
   "cell_type": "code",
   "execution_count": 10,
   "id": "3af08fa9",
   "metadata": {},
   "outputs": [
    {
     "data": {
      "text/plain": [
       "tensor([[ 0.1346,  0.1769, -0.0628],\n",
       "        [ 0.1363,  0.1771, -0.0683]], device='cuda:0', grad_fn=<TanhBackward0>)"
      ]
     },
     "execution_count": 10,
     "metadata": {},
     "output_type": "execute_result"
    }
   ],
   "source": [
    "sb3model.actor(x[:2])"
   ]
  },
  {
   "cell_type": "code",
   "execution_count": 11,
   "id": "eb7d8047",
   "metadata": {},
   "outputs": [
    {
     "name": "stdout",
     "output_type": "stream",
     "text": [
      "Parameter containing:\n",
      "tensor([[-0.0393, -0.0311,  0.0631,  ..., -0.0161,  0.0468,  0.0004],\n",
      "        [ 0.0546,  0.0410, -0.0172,  ..., -0.0003,  0.0072, -0.0159],\n",
      "        [ 0.0151, -0.0262,  0.0030,  ...,  0.0595,  0.0543, -0.0517],\n",
      "        ...,\n",
      "        [-0.0566, -0.0611, -0.0204,  ...,  0.0665,  0.0220,  0.0391],\n",
      "        [-0.0367,  0.0551, -0.0341,  ...,  0.0238, -0.0165, -0.0522],\n",
      "        [ 0.0417, -0.0006, -0.0013,  ...,  0.0217, -0.0591, -0.0211]],\n",
      "       device='cuda:0', requires_grad=True)\n"
     ]
    }
   ],
   "source": [
    "for param in sb3model.actor.parameters():\n",
    "    print(param)\n",
    "    break"
   ]
  },
  {
   "cell_type": "code",
   "execution_count": 12,
   "id": "4a42cf19",
   "metadata": {},
   "outputs": [],
   "source": [
    "sb3model.actor.mu = copy.deepcopy(actor)\n",
    "sb3model.actor_target.mu = copy.deepcopy(actor)"
   ]
  },
  {
   "cell_type": "code",
   "execution_count": 13,
   "id": "eb78d00c",
   "metadata": {},
   "outputs": [
    {
     "data": {
      "text/plain": [
       "tensor([[ 0.9470,  0.0678, -0.0264],\n",
       "        [ 0.9124,  0.0496, -0.0215]], device='cuda:0', grad_fn=<TanhBackward0>)"
      ]
     },
     "execution_count": 13,
     "metadata": {},
     "output_type": "execute_result"
    }
   ],
   "source": [
    "sb3model.actor(x[:2])"
   ]
  },
  {
   "cell_type": "code",
   "execution_count": 14,
   "id": "10a3e1f0",
   "metadata": {},
   "outputs": [
    {
     "name": "stdout",
     "output_type": "stream",
     "text": [
      "Parameter containing:\n",
      "tensor([[ 3.1955e-01,  5.1998e-02,  1.4502e-01,  ..., -1.1753e-03,\n",
      "          1.4321e-02, -2.2154e-02],\n",
      "        [ 3.7388e-02,  2.9288e-01,  3.4823e-01,  ..., -7.2124e-02,\n",
      "          8.0031e-03, -6.9549e-02],\n",
      "        [ 1.0586e+00, -9.8386e-01, -7.7886e-01,  ...,  4.1957e-02,\n",
      "         -7.5198e-02, -3.1768e-02],\n",
      "        ...,\n",
      "        [-1.9157e-01,  6.1842e-01, -3.8841e-01,  ...,  5.6180e-02,\n",
      "          1.9713e-02, -1.7462e-02],\n",
      "        [-1.9312e-02, -4.9004e-02,  9.4241e-03,  ...,  8.4671e-03,\n",
      "         -4.4216e-02, -4.6297e-02],\n",
      "        [ 2.3181e-01,  1.2013e+00, -5.1635e-01,  ..., -4.4961e-02,\n",
      "          8.9984e-02, -6.8418e-02]], device='cuda:0', requires_grad=True)\n"
     ]
    }
   ],
   "source": [
    "for param in sb3model.actor.parameters():\n",
    "    print(param)\n",
    "    break"
   ]
  },
  {
   "cell_type": "code",
   "execution_count": 15,
   "id": "03372508",
   "metadata": {},
   "outputs": [
    {
     "name": "stdout",
     "output_type": "stream",
     "text": [
      "Parameter containing:\n",
      "tensor([[ 3.1955e-01,  5.1998e-02,  1.4502e-01,  ..., -1.1753e-03,\n",
      "          1.4321e-02, -2.2154e-02],\n",
      "        [ 3.7388e-02,  2.9288e-01,  3.4823e-01,  ..., -7.2124e-02,\n",
      "          8.0031e-03, -6.9549e-02],\n",
      "        [ 1.0586e+00, -9.8386e-01, -7.7886e-01,  ...,  4.1957e-02,\n",
      "         -7.5198e-02, -3.1768e-02],\n",
      "        ...,\n",
      "        [-1.9157e-01,  6.1842e-01, -3.8841e-01,  ...,  5.6180e-02,\n",
      "          1.9713e-02, -1.7462e-02],\n",
      "        [-1.9312e-02, -4.9004e-02,  9.4241e-03,  ...,  8.4671e-03,\n",
      "         -4.4216e-02, -4.6297e-02],\n",
      "        [ 2.3181e-01,  1.2013e+00, -5.1635e-01,  ..., -4.4961e-02,\n",
      "          8.9984e-02, -6.8418e-02]], device='cuda:0', requires_grad=True)\n"
     ]
    }
   ],
   "source": [
    "for param in actor.parameters():\n",
    "    print(param)\n",
    "    break"
   ]
  },
  {
   "cell_type": "code",
   "execution_count": 16,
   "id": "5238ec04",
   "metadata": {},
   "outputs": [
    {
     "data": {
      "text/plain": [
       "(tensor([[0.0210],\n",
       "         [0.0246]], device='cuda:0', grad_fn=<AddmmBackward0>),\n",
       " tensor([[0.1040],\n",
       "         [0.1057]], device='cuda:0', grad_fn=<AddmmBackward0>))"
      ]
     },
     "execution_count": 16,
     "metadata": {},
     "output_type": "execute_result"
    }
   ],
   "source": [
    "sb3model.critic(x[:2], y[:2])"
   ]
  },
  {
   "cell_type": "code",
   "execution_count": 17,
   "id": "ae9d4852",
   "metadata": {},
   "outputs": [
    {
     "name": "stdout",
     "output_type": "stream",
     "text": [
      "Parameter containing:\n",
      "tensor([[ 0.0677, -0.0571, -0.0417,  ...,  0.0357,  0.0276, -0.0557],\n",
      "        [ 0.0381, -0.0370,  0.0434,  ...,  0.0393, -0.0378,  0.0665],\n",
      "        [-0.0577, -0.0059, -0.0248,  ..., -0.0058,  0.0107, -0.0413],\n",
      "        ...,\n",
      "        [-0.0411, -0.0607,  0.0116,  ..., -0.0578,  0.0355, -0.0592],\n",
      "        [ 0.0656, -0.0486, -0.0257,  ..., -0.0416, -0.0397,  0.0562],\n",
      "        [ 0.0471,  0.0189,  0.0533,  ...,  0.0140,  0.0263,  0.0499]],\n",
      "       device='cuda:0', requires_grad=True)\n"
     ]
    }
   ],
   "source": [
    "for param in sb3model.critic.parameters():\n",
    "    print(param)\n",
    "    break"
   ]
  },
  {
   "cell_type": "code",
   "execution_count": 18,
   "id": "d9588c39",
   "metadata": {},
   "outputs": [],
   "source": [
    "for module in sb3model.critic.modules():\n",
    "    del module\n",
    "for module in sb3model.critic_target.modules():\n",
    "    del module\n",
    "for idx in range(len(sb3model.critic.q_networks)):\n",
    "    q_net = copy.deepcopy(critic)\n",
    "    sb3model.critic.q_networks[idx] = q_net\n",
    "    sb3model.critic.add_module(f\"qf{idx}\", q_net)\n",
    "    q_net_target = copy.deepcopy(critic)\n",
    "    sb3model.critic_target.q_networks[idx] = q_net_target\n",
    "    sb3model.critic_target.add_module(f\"qf{idx}\", q_net_target)"
   ]
  },
  {
   "cell_type": "code",
   "execution_count": 19,
   "id": "ba00b583",
   "metadata": {},
   "outputs": [
    {
     "data": {
      "text/plain": [
       "(tensor([[92.7972],\n",
       "         [92.5767]], device='cuda:0', grad_fn=<AddmmBackward0>),\n",
       " tensor([[92.7972],\n",
       "         [92.5767]], device='cuda:0', grad_fn=<AddmmBackward0>))"
      ]
     },
     "execution_count": 19,
     "metadata": {},
     "output_type": "execute_result"
    }
   ],
   "source": [
    "sb3model.critic(x[:2], y[:2])"
   ]
  },
  {
   "cell_type": "code",
   "execution_count": 20,
   "id": "53928bb5",
   "metadata": {},
   "outputs": [
    {
     "name": "stdout",
     "output_type": "stream",
     "text": [
      "Parameter containing:\n",
      "tensor([[-0.0234, -0.0487, -0.0440,  ...,  0.0581,  0.0471,  0.0280],\n",
      "        [-0.0632, -0.0573,  0.0300,  ...,  0.0252, -0.0303,  0.0332],\n",
      "        [ 0.0676,  0.0391,  0.0522,  ...,  0.0023, -0.0139, -0.0637],\n",
      "        ...,\n",
      "        [-0.0788,  0.0281,  0.0034,  ..., -0.0360, -0.0607,  0.0577],\n",
      "        [ 0.0094, -0.0140,  0.0473,  ..., -0.0294, -0.0517,  0.0499],\n",
      "        [-0.0184,  0.0007,  0.0687,  ..., -0.0132,  0.0398, -0.0273]],\n",
      "       device='cuda:0', requires_grad=True)\n"
     ]
    }
   ],
   "source": [
    "for param in sb3model.critic.parameters():\n",
    "    print(param)\n",
    "    break"
   ]
  },
  {
   "cell_type": "code",
   "execution_count": 21,
   "id": "6eb13ccc",
   "metadata": {},
   "outputs": [
    {
     "name": "stdout",
     "output_type": "stream",
     "text": [
      "Parameter containing:\n",
      "tensor([[-0.0234, -0.0487, -0.0440,  ...,  0.0581,  0.0471,  0.0280],\n",
      "        [-0.0632, -0.0573,  0.0300,  ...,  0.0252, -0.0303,  0.0332],\n",
      "        [ 0.0676,  0.0391,  0.0522,  ...,  0.0023, -0.0139, -0.0637],\n",
      "        ...,\n",
      "        [-0.0788,  0.0281,  0.0034,  ..., -0.0360, -0.0607,  0.0577],\n",
      "        [ 0.0094, -0.0140,  0.0473,  ..., -0.0294, -0.0517,  0.0499],\n",
      "        [-0.0184,  0.0007,  0.0687,  ..., -0.0132,  0.0398, -0.0273]],\n",
      "       device='cuda:0', requires_grad=True)\n"
     ]
    }
   ],
   "source": [
    "for param in critic.parameters():\n",
    "    print(param)\n",
    "    break"
   ]
  },
  {
   "cell_type": "code",
   "execution_count": 22,
   "id": "459f75af",
   "metadata": {},
   "outputs": [],
   "source": [
    "sb3model.save('model_out_vert.zip')"
   ]
  }
 ],
 "metadata": {
  "kernelspec": {
   "display_name": "Python 3 (ipykernel)",
   "language": "python",
   "name": "python3"
  },
  "language_info": {
   "codemirror_mode": {
    "name": "ipython",
    "version": 3
   },
   "file_extension": ".py",
   "mimetype": "text/x-python",
   "name": "python",
   "nbconvert_exporter": "python",
   "pygments_lexer": "ipython3",
   "version": "3.9.13"
  }
 },
 "nbformat": 4,
 "nbformat_minor": 5
}
