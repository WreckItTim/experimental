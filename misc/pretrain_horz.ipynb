{
 "cells": [
  {
   "cell_type": "code",
   "execution_count": 8,
   "id": "44b012db",
   "metadata": {},
   "outputs": [],
   "source": [
    "from time import time\n",
    "import json\n",
    "import numpy as np\n",
    "import os\n",
    "from stable_baselines3 import TD3 as sb3TD3\n",
    "import torch\n",
    "import torch.nn as nn\n",
    "import torch.nn.functional as F\n",
    "import math\n",
    "from IPython.display import clear_output\n",
    "import matplotlib.pyplot as plt\n",
    "import copy\n",
    "from hyperopt import fmin, tpe, hp\n",
    "import pickle\n",
    "from torch import Tensor\n",
    "# simple stopwatch to time whatevs, in (float) seconds\n",
    "# keeps track of laps along with final time\n",
    "class Stopwatch:\n",
    "    def __init__(self):\n",
    "            self.start_time = time()\n",
    "            self.last_time = self.start_time\n",
    "            self.laps = []\n",
    "    def lap(self):\n",
    "        this_time = time()\n",
    "        delta_time = this_time - self.last_time\n",
    "        self.laps.append(delta_time)\n",
    "        self.last_time = this_time\n",
    "        return delta_time\n",
    "    def stop(self):\n",
    "        self.stop_time = time()\n",
    "        self.delta_time = self.stop_time - self.start_time\n",
    "        return self.delta_time"
   ]
  },
  {
   "cell_type": "code",
   "execution_count": 2,
   "id": "79790f3c",
   "metadata": {},
   "outputs": [
    {
     "name": "stdout",
     "output_type": "stream",
     "text": [
      "Sequential(\n",
      "  (0): Linear(in_features=208, out_features=32, bias=True)\n",
      "  (1): ReLU()\n",
      "  (2): Linear(in_features=32, out_features=32, bias=True)\n",
      "  (3): ReLU()\n",
      "  (4): Linear(in_features=32, out_features=32, bias=True)\n",
      "  (5): ReLU()\n",
      "  (6): Linear(in_features=32, out_features=2, bias=True)\n",
      "  (7): Tanh()\n",
      ")\n"
     ]
    },
    {
     "data": {
      "text/plain": [
       "<All keys matched successfully>"
      ]
     },
     "execution_count": 2,
     "metadata": {},
     "output_type": "execute_result"
    }
   ],
   "source": [
    "nLayers = 3\n",
    "nNodes = 2**5\n",
    "learning_rate = 10**(int(-1*3))#params['learning_rate']))\n",
    "weight_decay = 10**(int(-1*6))\n",
    "eps = 1e-8#10**(int(-1*int(params['eps'])))\n",
    "patience = 10#int(params['patience'])\n",
    "\n",
    "activation_fn = nn.ReLU\n",
    "with_bias = True\n",
    "input_dim = 208\n",
    "net_arch = [nNodes for _ in range(nLayers)]\n",
    "output_dim = 2\n",
    "\n",
    "modules = []\n",
    "if nLayers == 0:\n",
    "    modules.append(nn.Linear(input_dim, output_dim, bias=with_bias))\n",
    "else:\n",
    "    modules.append(nn.Linear(input_dim, net_arch[0], bias=with_bias))\n",
    "    modules.append(activation_fn())\n",
    "    for idx in range(len(net_arch) - 1):\n",
    "        modules.append(nn.Linear(net_arch[idx], net_arch[idx + 1], bias=with_bias))\n",
    "        modules.append(activation_fn())\n",
    "    modules.append(nn.Linear(net_arch[-1], output_dim, bias=with_bias))\n",
    "modules.append(nn.Tanh())\n",
    "actor = nn.Sequential(*modules)\n",
    "device = torch.device(\"cuda\")\n",
    "actor.cuda()\n",
    "actor_weights = torch.load('actor_pretrained_weights_horz.pt')\n",
    "print(actor)\n",
    "actor.load_state_dict(actor_weights)"
   ]
  },
  {
   "cell_type": "code",
   "execution_count": 6,
   "id": "972dfd3d",
   "metadata": {},
   "outputs": [
    {
     "name": "stdout",
     "output_type": "stream",
     "text": [
      "Sequential(\n",
      "  (0): Linear(in_features=210, out_features=32, bias=True)\n",
      "  (1): ReLU()\n",
      "  (2): Linear(in_features=32, out_features=32, bias=True)\n",
      "  (3): ReLU()\n",
      "  (4): Linear(in_features=32, out_features=32, bias=True)\n",
      "  (5): ReLU()\n",
      "  (6): Linear(in_features=32, out_features=1, bias=True)\n",
      ")\n"
     ]
    },
    {
     "data": {
      "text/plain": [
       "<All keys matched successfully>"
      ]
     },
     "execution_count": 6,
     "metadata": {},
     "output_type": "execute_result"
    }
   ],
   "source": [
    "nLayers = 3\n",
    "nNodes = 2**5\n",
    "learning_rate = 10**(int(-1*3))#params['learning_rate']))\n",
    "weight_decay = 10**(int(-1*6))\n",
    "eps = 1e-8#10**(int(-1*int(params['eps'])))\n",
    "patience = 10#int(params['patience'])\n",
    "\n",
    "activation_fn = nn.ReLU\n",
    "with_bias = True\n",
    "input_dim = 210\n",
    "net_arch = [nNodes for _ in range(nLayers)]\n",
    "output_dim = 1\n",
    "\n",
    "modules = []\n",
    "if nLayers == 0:\n",
    "    modules.append(nn.Linear(input_dim, output_dim, bias=with_bias))\n",
    "else:\n",
    "    modules.append(nn.Linear(input_dim, net_arch[0], bias=with_bias))\n",
    "    modules.append(activation_fn())\n",
    "    for idx in range(len(net_arch) - 1):\n",
    "        modules.append(nn.Linear(net_arch[idx], net_arch[idx + 1], bias=with_bias))\n",
    "        modules.append(activation_fn())\n",
    "    modules.append(nn.Linear(net_arch[-1], output_dim, bias=with_bias))\n",
    "critic = nn.Sequential(*modules)\n",
    "device = torch.device(\"cuda\")\n",
    "critic.cuda()\n",
    "critic_weights = torch.load('critic_pretrained_weights_horz.pt')\n",
    "print(critic)\n",
    "critic.load_state_dict(critic_weights)"
   ]
  },
  {
   "cell_type": "code",
   "execution_count": 7,
   "id": "7382ab1d",
   "metadata": {},
   "outputs": [
    {
     "name": "stdout",
     "output_type": "stream",
     "text": [
      "Actor(\n",
      "  (features_extractor): FlattenExtractor(\n",
      "    (flatten): Flatten(start_dim=1, end_dim=-1)\n",
      "  )\n",
      "  (mu): Sequential(\n",
      "    (0): Linear(in_features=208, out_features=32, bias=True)\n",
      "    (1): ReLU()\n",
      "    (2): Linear(in_features=32, out_features=32, bias=True)\n",
      "    (3): ReLU()\n",
      "    (4): Linear(in_features=32, out_features=32, bias=True)\n",
      "    (5): ReLU()\n",
      "    (6): Linear(in_features=32, out_features=2, bias=True)\n",
      "    (7): Tanh()\n",
      "  )\n",
      ")\n",
      "ContinuousCritic(\n",
      "  (features_extractor): FlattenExtractor(\n",
      "    (flatten): Flatten(start_dim=1, end_dim=-1)\n",
      "  )\n",
      "  (qf0): Sequential(\n",
      "    (0): Linear(in_features=210, out_features=32, bias=True)\n",
      "    (1): ReLU()\n",
      "    (2): Linear(in_features=32, out_features=32, bias=True)\n",
      "    (3): ReLU()\n",
      "    (4): Linear(in_features=32, out_features=32, bias=True)\n",
      "    (5): ReLU()\n",
      "    (6): Linear(in_features=32, out_features=1, bias=True)\n",
      "  )\n",
      "  (qf1): Sequential(\n",
      "    (0): Linear(in_features=210, out_features=32, bias=True)\n",
      "    (1): ReLU()\n",
      "    (2): Linear(in_features=32, out_features=32, bias=True)\n",
      "    (3): ReLU()\n",
      "    (4): Linear(in_features=32, out_features=32, bias=True)\n",
      "    (5): ReLU()\n",
      "    (6): Linear(in_features=32, out_features=1, bias=True)\n",
      "  )\n",
      ")\n"
     ]
    }
   ],
   "source": [
    "sb3model = sb3TD3.load('model_in_horz.zip')\n",
    "device = torch.device(\"cuda\")\n",
    "sb3model.actor.cuda()\n",
    "sb3model.critic.cuda()\n",
    "print(sb3model.actor)\n",
    "print(sb3model.critic)"
   ]
  },
  {
   "cell_type": "code",
   "execution_count": 8,
   "id": "4a42cf19",
   "metadata": {},
   "outputs": [],
   "source": [
    "sb3model.actor.mu = copy.deepcopy(actor)\n",
    "sb3model.actor_target.mu = copy.deepcopy(actor)"
   ]
  },
  {
   "cell_type": "code",
   "execution_count": 9,
   "id": "d9588c39",
   "metadata": {},
   "outputs": [],
   "source": [
    "for module in sb3model.critic.modules():\n",
    "    del module\n",
    "for module in sb3model.critic_target.modules():\n",
    "    del module\n",
    "for idx in range(len(sb3model.critic.q_networks)):\n",
    "    q_net = copy.deepcopy(critic)\n",
    "    sb3model.critic.q_networks[idx] = q_net\n",
    "    sb3model.critic.add_module(f\"qf{idx}\", q_net)\n",
    "    q_net_target = copy.deepcopy(critic)\n",
    "    sb3model.critic_target.q_networks[idx] = q_net_target\n",
    "    sb3model.critic_target.add_module(f\"qf{idx}\", q_net_target)"
   ]
  },
  {
   "cell_type": "code",
   "execution_count": 10,
   "id": "459f75af",
   "metadata": {},
   "outputs": [],
   "source": [
    "sb3model.save('model_out_horz.zip')"
   ]
  },
  {
   "cell_type": "code",
   "execution_count": null,
   "id": "0dcf66a1",
   "metadata": {},
   "outputs": [],
   "source": []
  }
 ],
 "metadata": {
  "kernelspec": {
   "display_name": "Python 3 (ipykernel)",
   "language": "python",
   "name": "python3"
  },
  "language_info": {
   "codemirror_mode": {
    "name": "ipython",
    "version": 3
   },
   "file_extension": ".py",
   "mimetype": "text/x-python",
   "name": "python",
   "nbconvert_exporter": "python",
   "pygments_lexer": "ipython3",
   "version": "3.12.4"
  }
 },
 "nbformat": 4,
 "nbformat_minor": 5
}
